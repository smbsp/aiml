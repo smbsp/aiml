{
  "nbformat": 4,
  "nbformat_minor": 0,
  "metadata": {
    "colab": {
      "provenance": []
    },
    "kernelspec": {
      "name": "python3",
      "display_name": "Python 3"
    },
    "language_info": {
      "name": "python"
    }
  },
  "cells": [
    {
      "cell_type": "markdown",
      "source": [
        "Implement Bag of Words (BoW)\n",
        "\n",
        "We'll do the following:\n",
        "\n",
        "1. Define input documents\n",
        "2. Preprocess each document (lowercase, remove punctuation, split)\n",
        "3. Build the vocabulary\n",
        "4. Create a frequency vector for each document\n",
        "5. Assemble the matrix\n",
        "\n",
        "---\n",
        "\n",
        "## 📘 Step-by-Step Manual Bag of Words (BoW)\n",
        "\n",
        "### 🧾 Step 1: Define Documents\n",
        "\n",
        "```python\n",
        "documents = [\n",
        "    \"I love machine learning\",\n",
        "    \"Machine learning is amazing\",\n",
        "    \"I love coding in Python\"\n",
        "]\n",
        "```\n",
        "\n",
        "We have 3 short documents.\n",
        "\n",
        "---\n",
        "\n",
        "### ✂️ Step 2: Preprocessing\n",
        "\n",
        "We'll:\n",
        "\n",
        "* Convert to lowercase\n",
        "* Remove punctuation\n",
        "* Tokenize into words (split by space)\n",
        "\n",
        "```python\n",
        "def preprocess(text):\n",
        "    text = text.lower()  # convert to lowercase\n",
        "    # Remove punctuation manually (no regex for full manual control)\n",
        "    punctuation = ['.', ',', '!', '?']\n",
        "    for p in punctuation:\n",
        "        text = text.replace(p, '')\n",
        "    words = text.split()  # tokenize by spaces\n",
        "    return words\n",
        "\n",
        "# Apply preprocessing\n",
        "tokenized_docs = [preprocess(doc) for doc in documents]\n",
        "\n",
        "# Show tokens\n",
        "for i, doc in enumerate(tokenized_docs):\n",
        "    print(f\"Tokens in Document {i+1}:\", doc)\n",
        "```\n",
        "\n",
        "### Output:\n",
        "\n",
        "```\n",
        "Tokens in Document 1: ['i', 'love', 'machine', 'learning']\n",
        "Tokens in Document 2: ['machine', 'learning', 'is', 'amazing']\n",
        "Tokens in Document 3: ['i', 'love', 'coding', 'in', 'python']\n",
        "```\n",
        "\n",
        "---\n",
        "\n",
        "### 🧠 Step 3: Build Vocabulary (Unique Words)\n",
        "\n",
        "We go through each tokenized document and collect unique words.\n",
        "\n",
        "```python\n",
        "# Flatten all words into one list\n",
        "all_words = []\n",
        "for doc in tokenized_docs:\n",
        "    all_words.extend(doc)\n",
        "\n",
        "# Get unique words (manual way)\n",
        "vocab = []\n",
        "for word in all_words:\n",
        "    if word not in vocab:\n",
        "        vocab.append(word)\n",
        "\n",
        "# Show vocabulary\n",
        "print(\"Vocabulary:\", vocab)\n",
        "```\n",
        "\n",
        "### Output:\n",
        "\n",
        "```\n",
        "Vocabulary: ['i', 'love', 'machine', 'learning', 'is', 'amazing', 'coding', 'in', 'python']\n",
        "```\n",
        "\n",
        "There are **9 unique words**, so the final matrix will have 9 columns.\n",
        "\n",
        "---\n",
        "\n",
        "### 🧮 Step 4: Create Frequency Vectors for Each Document\n",
        "\n",
        "We’ll create a vector for each document:\n",
        "\n",
        "* Length = number of vocab words (9)\n",
        "* Each position corresponds to word count\n",
        "\n",
        "```python\n",
        "bow_vectors = []\n",
        "\n",
        "for doc in tokenized_docs:\n",
        "    vector = []\n",
        "    for word in vocab:\n",
        "        count = doc.count(word)  # count word in current doc\n",
        "        vector.append(count)\n",
        "    bow_vectors.append(vector)\n",
        "\n",
        "# Show all vectors\n",
        "for i, vec in enumerate(bow_vectors):\n",
        "    print(f\"BoW Vector for Document {i+1}:\", vec)\n",
        "```\n",
        "\n",
        "### Output:\n",
        "\n",
        "```\n",
        "BoW Vector for Document 1: [1, 1, 1, 1, 0, 0, 0, 0, 0]\n",
        "BoW Vector for Document 2: [0, 0, 1, 1, 1, 1, 0, 0, 0]\n",
        "BoW Vector for Document 3: [1, 1, 0, 0, 0, 0, 1, 1, 1]\n",
        "```\n",
        "\n",
        "---\n",
        "\n",
        "### 📊 Step 5: Create BoW Matrix\n",
        "\n",
        "Let’s display this as a nice table using only Python lists:\n",
        "\n",
        "```python\n",
        "# Column headers\n",
        "print(\"Vocabulary:\", vocab)\n",
        "\n",
        "# Table rows\n",
        "for i, vec in enumerate(bow_vectors):\n",
        "    print(f\"Doc{i+1}: {vec}\")\n",
        "```\n",
        "\n",
        "### Output:\n",
        "\n",
        "```\n",
        "Vocabulary: ['i', 'love', 'machine', 'learning', 'is', 'amazing', 'coding', 'in', 'python']\n",
        "Doc1: [1, 1, 1, 1, 0, 0, 0, 0, 0]\n",
        "Doc2: [0, 0, 1, 1, 1, 1, 0, 0, 0]\n",
        "Doc3: [1, 1, 0, 0, 0, 0, 1, 1, 1]\n",
        "```\n",
        "\n",
        "---\n",
        "\n",
        "## ✅ Final Manual BoW Table:\n",
        "\n",
        "| Doc  | i | love | machine | learning | is | amazing | coding | in | python |\n",
        "| ---- | - | ---- | ------- | -------- | -- | ------- | ------ | -- | ------ |\n",
        "| Doc1 | 1 | 1    | 1       | 1        | 0  | 0       | 0      | 0  | 0      |\n",
        "| Doc2 | 0 | 0    | 1       | 1        | 1  | 1       | 0      | 0  | 0      |\n",
        "| Doc3 | 1 | 1    | 0       | 0        | 0  | 0       | 1      | 1  | 1      |\n",
        "\n",
        "---\n",
        "\n",
        "## 🔁 Recap of Manual Steps\n",
        "\n",
        "1. **Lowercase + Clean** the text\n",
        "2. **Tokenize** into words\n",
        "3. **Build vocabulary** (unique words)\n",
        "4. **For each document**, count how many times each vocab word appears\n",
        "5. Assemble into a final matrix\n",
        "\n",
        "\n"
      ],
      "metadata": {
        "id": "lAGszZMkv8s-"
      }
    },
    {
      "cell_type": "markdown",
      "source": [
        "# TF IDF"
      ],
      "metadata": {
        "id": "LcWTTHRHwHI4"
      }
    },
    {
      "cell_type": "markdown",
      "source": [
        "\n",
        "\n",
        "# **Step 1: Four Indian Sentiment Sentences**\n",
        "\n",
        "Here are four sentences (positive, negative, neutral, mixed):\n",
        "\n",
        "1. **Positive:**\n",
        "   `\"The food at the wedding was absolutely delicious.\"`\n",
        "\n",
        "2. **Negative:**\n",
        "   `\"The traffic in Mumbai made me very angry.\"`\n",
        "\n",
        "3. **Neutral:**\n",
        "   `\"My train to Delhi is scheduled at 6 AM.\"`\n",
        "\n",
        "4. **Mixed:**\n",
        "   `\"The festival was colorful but the crowd was too much.\"`\n",
        "\n",
        "---\n",
        "\n",
        "# **Step 2: Manual TF-IDF Calculation**\n",
        "\n",
        "Let’s **simplify** the process:\n",
        "\n",
        "* Remove stopwords (like \"the\", \"at\", \"was\", etc.).\n",
        "* Tokenize (split into words).\n",
        "* Calculate **TF** (Term Frequency) and **IDF** (Inverse Document Frequency).\n",
        "* Get **TF-IDF** score.\n",
        "\n",
        "Let's **choose three words to demonstrate:**\n",
        "Let’s pick: `food`, `festival`, and `crowd`.\n",
        "\n",
        "---\n",
        "\n",
        "## **A. Prepare the Data**\n",
        "\n",
        "| Doc | Sentence                                              | Tokens after stopwords removal       |\n",
        "| --- | ----------------------------------------------------- | ------------------------------------ |\n",
        "| 1   | The food at the wedding was absolutely delicious.     | food, wedding, absolutely, delicious |\n",
        "| 2   | The traffic in Mumbai made me very angry.             | traffic, Mumbai, made, angry         |\n",
        "| 3   | My train to Delhi is scheduled at 6 AM.               | train, Delhi, scheduled, 6, AM       |\n",
        "| 4   | The festival was colorful but the crowd was too much. | festival, colorful, crowd, much      |\n",
        "\n",
        "Let’s use only **food, festival, crowd** for demonstration.\n",
        "\n",
        "---\n",
        "\n",
        "## **B. Term Frequency (TF)**\n",
        "\n",
        "How many times does the word appear in each doc?\n",
        "\n",
        "| Word     | Doc 1 | Doc 2 | Doc 3 | Doc 4 |\n",
        "| -------- | ----- | ----- | ----- | ----- |\n",
        "| food     | 1     | 0     | 0     | 0     |\n",
        "| festival | 0     | 0     | 0     | 1     |\n",
        "| crowd    | 0     | 0     | 0     | 1     |\n",
        "\n",
        "Let’s use **relative TF** (word count / total words in doc):\n",
        "\n",
        "* **Doc 1**: 4 words (food, wedding, absolutely, delicious)\n",
        "* **Doc 2**: 4 words (traffic, Mumbai, made, angry)\n",
        "* **Doc 3**: 5 words (train, Delhi, scheduled, 6, AM)\n",
        "* **Doc 4**: 4 words (festival, colorful, crowd, much)\n",
        "\n",
        "TF Table:\n",
        "\n",
        "| Word     | Doc 1    | Doc 2 | Doc 3 | Doc 4    |\n",
        "| -------- | -------- | ----- | ----- | -------- |\n",
        "| food     | 1/4=0.25 | 0     | 0     | 0        |\n",
        "| festival | 0        | 0     | 0     | 1/4=0.25 |\n",
        "| crowd    | 0        | 0     | 0     | 1/4=0.25 |\n",
        "\n",
        "---\n",
        "\n",
        "## **C. Inverse Document Frequency (IDF)**\n",
        "\n",
        "Formula:\n",
        "\n",
        "$$\n",
        "IDF = \\log_{10}\\left(\\frac{N}{df}\\right)\n",
        "$$\n",
        "\n",
        "Where:\n",
        "\n",
        "* $N =$ total number of documents = 4\n",
        "* $df =$ number of documents containing the word\n",
        "\n",
        "For our words:\n",
        "\n",
        "* **food:** appears in 1 doc → $df = 1$\n",
        "* **festival:** 1 doc → $df = 1$\n",
        "* **crowd:** 1 doc → $df = 1$\n",
        "\n",
        "So:\n",
        "\n",
        "$$\n",
        "IDF = \\log_{10}\\left(\\frac{4}{1}\\right) = \\log_{10}(4) \\approx 0.602\n",
        "$$\n",
        "\n",
        "---\n",
        "\n",
        "## **D. TF-IDF Calculation**\n",
        "\n",
        "$$\n",
        "TFIDF = TF \\times IDF\n",
        "$$\n",
        "\n",
        "| Word     | Doc 1                | Doc 2 | Doc 3 | Doc 4                |\n",
        "| -------- | -------------------- | ----- | ----- | -------------------- |\n",
        "| food     | 0.25 × 0.602 ≈ 0.150 | 0     | 0     | 0                    |\n",
        "| festival | 0                    | 0     | 0     | 0.25 × 0.602 ≈ 0.150 |\n",
        "| crowd    | 0                    | 0     | 0     | 0.25 × 0.602 ≈ 0.150 |\n",
        "\n",
        "---\n",
        "\n",
        "## **Summary Table**\n",
        "\n",
        "| Word     | Doc 1 | Doc 2 | Doc 3 | Doc 4 |\n",
        "| -------- | ----- | ----- | ----- | ----- |\n",
        "| food     | 0.150 | 0     | 0     | 0     |\n",
        "| festival | 0     | 0     | 0     | 0.150 |\n",
        "| crowd    | 0     | 0     | 0     | 0.150 |\n",
        "\n",
        "---\n",
        "\n"
      ],
      "metadata": {
        "id": "EdVT8ktHwXKK"
      }
    },
    {
      "cell_type": "markdown",
      "source": [
        "A comprehensive breakdown of **Bag of Words (BoW)** and **TF-IDF**, with:\n",
        "\n",
        "* Real-world industry examples\n",
        "* Clear comparison\n",
        "* Advantages and disadvantages\n",
        "* Common **interview questions** and answers\n",
        "\n",
        "---\n",
        "\n",
        "## 🔸 What is Bag of Words (BoW)?\n",
        "\n",
        "**Bag of Words** is a text representation technique that converts text into a **fixed-length vector**, based on **word counts** (frequency).\n",
        "\n",
        "* **Each document** becomes a vector of word frequencies from the vocabulary.\n",
        "* **Order of words is ignored.**\n",
        "* Only presence and repetition of words matter.\n",
        "\n",
        "---\n",
        "\n",
        "### 🏭 Industry-Level Example for BoW\n",
        "\n",
        "Imagine you’re building a **spam classifier** for an email service like Gmail.\n",
        "\n",
        "You collect two example emails:\n",
        "\n",
        "1. `\"Win a FREE iPhone today\"`\n",
        "2. `\"Please find attached the meeting agenda\"`\n",
        "\n",
        "BoW vectorization might create this vocabulary:\n",
        "\n",
        "`['win', 'a', 'free', 'iphone', 'today', 'please', 'find', 'attached', 'the', 'meeting', 'agenda']`\n",
        "\n",
        "Then turn each email into vectors like this:\n",
        "\n",
        "| Email          | win | a | free | iphone | today | please | find | attached | the | meeting | agenda |\n",
        "| -------------- | --- | - | ---- | ------ | ----- | ------ | ---- | -------- | --- | ------- | ------ |\n",
        "| Spam Email     | 1   | 1 | 1    | 1      | 1     | 0      | 0    | 0        | 0   | 0       | 0      |\n",
        "| Business Email | 0   | 0 | 0    | 0      | 0     | 1      | 1    | 1        | 1   | 1       | 1      |\n",
        "\n",
        "Now you can use these vectors for training a machine learning model.\n",
        "\n",
        "---\n",
        "\n",
        "## 🔸 What is TF-IDF?\n",
        "\n",
        "**TF-IDF (Term Frequency-Inverse Document Frequency)** improves on BoW by **weighing words**:\n",
        "\n",
        "* Words that occur often in **one document** but **rarely across other documents** are given **more importance**.\n",
        "* Common words across all documents (like \"the\", \"a\") are **down-weighted**.\n",
        "\n",
        "**Formula:**\n",
        "\n",
        "```\n",
        "TF-IDF = TF(term in document) * IDF(term across corpus)\n",
        "```\n",
        "\n",
        "---\n",
        "\n",
        "### 🏭 Industry-Level Example for TF-IDF\n",
        "\n",
        "You work on a **news recommender system** for Google News.\n",
        "\n",
        "Say you have 3 articles:\n",
        "\n",
        "1. `\"India wins cricket match\"`\n",
        "2. `\"Cricket match delayed due to rain\"`\n",
        "3. `\"Global climate summit in Geneva\"`\n",
        "\n",
        "* In BoW, the word **“match”** in articles 1 and 2 would be equally important.\n",
        "* But with TF-IDF, if “match” appears in 90% of articles, it will be **down-weighted**.\n",
        "* **Rare but important** terms like “climate”, “summit”, “Geneva” will get **more weight** in Article 3.\n",
        "\n",
        "TF-IDF improves **semantic relevance** in search, recommendation, and clustering.\n",
        "\n",
        "---\n",
        "\n",
        "## ⚖️ BoW vs TF-IDF — Comparison\n",
        "\n",
        "| Feature              | Bag of Words (BoW)                  | TF-IDF                                 |\n",
        "| -------------------- | ----------------------------------- | -------------------------------------- |\n",
        "| Weights              | Raw counts                          | Weighted (based on frequency & rarity) |\n",
        "| Common words (\"the\") | High frequency                      | Down-weighted                          |\n",
        "| Word order           | Ignored                             | Ignored                                |\n",
        "| Vector size          | Depends on vocabulary               | Same                                   |\n",
        "| Meaning captured     | No                                  | Partial (term importance)              |\n",
        "\n",
        "---\n",
        "\n",
        "## ✅ Advantages & Disadvantages\n",
        "\n",
        "### ✔️ Bag of Words (BoW)\n",
        "\n",
        "**Advantages:**\n",
        "\n",
        "* Simple to implement\n",
        "* Fast and efficient for small vocab\n",
        "* Works well with basic classifiers (Naive Bayes, Logistic Regression)\n",
        "\n",
        "**Disadvantages:**\n",
        "\n",
        "* Ignores context and semantics\n",
        "* Results in **sparse** - (alot of 0 in vectors), **high-dimensional** vectors\n",
        "\n",
        "* Equal importance to all words\n",
        "\n",
        "---\n",
        "\n",
        "### ✔️ TF-IDF\n",
        "\n",
        "**Advantages:**\n",
        "\n",
        "* Captures **relevance** of words\n",
        "* Downplays common, non-informative words\n",
        "* Improves performance for **semantic search** and document clustering\n",
        "\n",
        "**Disadvantages:**\n",
        "\n",
        "* Still ignores word order and context\n",
        "* Still creates sparse vectors\n",
        "* Cannot handle **synonyms**\n",
        "\n",
        "---\n",
        "\n",
        "## 🤖 Where They're Used in Industry\n",
        "\n",
        "| Application             | BoW          | TF-IDF         |\n",
        "| ----------------------- | ------------ | -------------- |\n",
        "| Spam Detection          | ✅ Common     | ✅ Better       |\n",
        "| Document Classification | ✅ Works well | ✅ Better       |\n",
        "| Search Engines (IR)     | ❌ Too simple | ✅ Standard     |\n",
        "| Chatbots / QA           | ❌            | ✅ Intermediate |\n",
        "| Recommender Systems     | ❌            | ✅ Good         |\n",
        "| Topic Modeling (LDA)    | ✅            | ❌              |\n",
        "\n",
        "---\n",
        "\n",
        "## 💬 Common Interview Questions (with answers)\n",
        "\n",
        "### 🔸 Q1: What is the difference between BoW and TF-IDF?\n",
        "\n",
        "**A:** BoW counts how often a word occurs. TF-IDF adjusts that count by how rare the word is across the entire corpus.\n",
        "\n",
        "---\n",
        "\n",
        "### 🔸 Q2: When would you prefer BoW over TF-IDF?\n",
        "\n",
        "**A:** In simple text classification tasks where interpretability or speed is preferred over nuance — e.g., spam filters, sentiment classification with limited data.\n",
        "\n",
        "---\n",
        "\n",
        "### 🔸 Q3: Can TF-IDF capture word meaning?\n",
        "\n",
        "**A:** Not fully. TF-IDF gives importance to rare words but does not understand context, synonyms, or word order.\n",
        "\n",
        "---\n",
        "\n",
        "### 🔸 Q4: Why are both BoW and TF-IDF called \"sparse\" representations?\n",
        "\n",
        "**A:** Because most entries in the vector are zero — each document uses only a few words from a large vocabulary.\n",
        "\n",
        "---\n",
        "\n",
        "### 🔸 Q5: Why might TF-IDF fail in a chatbot?\n",
        "\n",
        "**A:** Because TF-IDF ignores word order, syntax, and context. Chatbots need deeper understanding, often requiring embeddings or transformers (e.g., BERT).\n",
        "\n",
        "---\n",
        "\n",
        "## 🧠 Summary\n",
        "\n",
        "* **BoW** is good for quick, simple, interpretable models.\n",
        "* **TF-IDF** is a better choice for search, relevance, and document similarity.\n",
        "* Both are **context-free** and limited by **high dimensionality**.\n",
        "* Most modern NLP applications now use **word embeddings** or **transformers** instead.\n",
        "\n",
        "\n"
      ],
      "metadata": {
        "id": "OWSSklBKw6GZ"
      }
    },
    {
      "cell_type": "code",
      "execution_count": null,
      "metadata": {
        "colab": {
          "base_uri": "https://localhost:8080/"
        },
        "id": "V99N4WraPS-S",
        "outputId": "bf337b9a-2de0-4b9c-c924-f8a923e44a07"
      },
      "outputs": [
        {
          "output_type": "stream",
          "name": "stderr",
          "text": [
            "[nltk_data] Downloading package punkt to /root/nltk_data...\n",
            "[nltk_data]   Unzipping tokenizers/punkt.zip.\n",
            "[nltk_data] Downloading package stopwords to /root/nltk_data...\n",
            "[nltk_data]   Unzipping corpora/stopwords.zip.\n",
            "[nltk_data] Downloading package wordnet to /root/nltk_data...\n",
            "[nltk_data] Downloading package averaged_perceptron_tagger to\n",
            "[nltk_data]     /root/nltk_data...\n",
            "[nltk_data]   Unzipping taggers/averaged_perceptron_tagger.zip.\n",
            "[nltk_data] Downloading package omw-1.4 to /root/nltk_data...\n",
            "[nltk_data] Downloading package punkt_tab to /root/nltk_data...\n",
            "[nltk_data]   Unzipping tokenizers/punkt_tab.zip.\n"
          ]
        },
        {
          "output_type": "stream",
          "name": "stdout",
          "text": [
            "Collecting en-core-web-sm==3.8.0\n",
            "  Downloading https://github.com/explosion/spacy-models/releases/download/en_core_web_sm-3.8.0/en_core_web_sm-3.8.0-py3-none-any.whl (12.8 MB)\n",
            "\u001b[2K     \u001b[90m━━━━━━━━━━━━━━━━━━━━━━━━━━━━━━━━━━━━━━━━\u001b[0m \u001b[32m12.8/12.8 MB\u001b[0m \u001b[31m82.3 MB/s\u001b[0m eta \u001b[36m0:00:00\u001b[0m\n",
            "\u001b[?25h\u001b[38;5;2m✔ Download and installation successful\u001b[0m\n",
            "You can now load the package via spacy.load('en_core_web_sm')\n",
            "\u001b[38;5;3m⚠ Restart to reload dependencies\u001b[0m\n",
            "If you are in a Jupyter or Colab notebook, you may need to restart Python in\n",
            "order to load all the package's dependencies. You can do this by selecting the\n",
            "'Restart kernel' or 'Restart runtime' option.\n"
          ]
        }
      ],
      "source": [
        "\n",
        "# Install necessary libraries\n",
        "!pip install -q nltk spacy docx2txt pandas matplotlib wordcloud\n",
        "\n",
        "# Download NLTK data\n",
        "import nltk\n",
        "nltk.download('punkt')        # For tokenization\n",
        "nltk.download('stopwords')    # For stop words\n",
        "nltk.download('wordnet')      # For lemmatization\n",
        "nltk.download('averaged_perceptron_tagger') # For POS tagging\n",
        "nltk.download('omw-1.4')      # For WordNet data\n",
        "nltk.download('punkt_tab')    # Download the missing resource for sentence tokenization\n",
        "\n",
        "\n",
        "# Download spaCy model\n",
        "!python -m spacy download en_core_web_sm"
      ]
    },
    {
      "cell_type": "code",
      "source": [
        "######\n",
        "### Note: For loading .docx files, you would typically do:\n",
        "\n",
        "# import docx2txt\n",
        "# try:\n",
        "#     text = docx2txt.process(\"your_document.docx\")\n",
        "#     print(text)\n",
        "# except Exception as e:\n",
        "#     print(f\"Error loading docx: {e}\")"
      ],
      "metadata": {
        "id": "W2FIW0U3Y13B"
      },
      "execution_count": null,
      "outputs": []
    },
    {
      "cell_type": "code",
      "source": [
        "sample_document = \"\"\"\n",
        "Machine learning (ML) is a field of study in artificial intelligence concerned with the development of computer algorithms that can learn from and make predictions on data. Algorithms build a mathematical model based on sample data, known as \"training data\", in order to make predictions or decisions without being explicitly programmed to perform the task.\n",
        "\n",
        "Machine learning algorithms are used in a wide variety of applications, such as email filtering and computer vision, where it is difficult or infeasible to develop conventional algorithms to perform the needed tasks. A subset of machine learning is closely related to computational statistics, which focuses on making predictions using computers. Mathematical optimization delivers methods, theory and application domains to the field of machine learning. Data mining is a related field of study, focusing on exploratory data analysis through unsupervised learning.\n",
        "\n",
        "In its application across business problems, machine learning is also referred to as predictive analytics.\n",
        "\"\"\""
      ],
      "metadata": {
        "id": "kov9zNNtZpd3"
      },
      "execution_count": null,
      "outputs": []
    },
    {
      "cell_type": "code",
      "source": [
        "noisy_text = \"\"\"\n",
        "Machine learning rocks! It's revolutionizing the world in 2023 (and beyond!).\n",
        "Visit our site: http://example.com for more info.\n",
        "This is awesome!!! We collected 1,234 data points.\n",
        "Softbank and Google are major players.\n",
        "\"\"\""
      ],
      "metadata": {
        "id": "iDSJQkg1ZuY4"
      },
      "execution_count": null,
      "outputs": []
    },
    {
      "cell_type": "code",
      "source": [
        "print(\"--- Sample Document ---\")\n",
        "print(sample_document)\n",
        "print(\"\\n--- Noisy Text ---\")\n",
        "print(noisy_text)"
      ],
      "metadata": {
        "colab": {
          "base_uri": "https://localhost:8080/"
        },
        "id": "_SE9MBmaZz7T",
        "outputId": "24acd097-528d-4caa-8259-22c7b8fc87b4"
      },
      "execution_count": null,
      "outputs": [
        {
          "output_type": "stream",
          "name": "stdout",
          "text": [
            "--- Sample Document ---\n",
            "\n",
            "Machine learning (ML) is a field of study in artificial intelligence concerned with the development of computer algorithms that can learn from and make predictions on data. Algorithms build a mathematical model based on sample data, known as \"training data\", in order to make predictions or decisions without being explicitly programmed to perform the task.\n",
            "\n",
            "Machine learning algorithms are used in a wide variety of applications, such as email filtering and computer vision, where it is difficult or infeasible to develop conventional algorithms to perform the needed tasks. A subset of machine learning is closely related to computational statistics, which focuses on making predictions using computers. Mathematical optimization delivers methods, theory and application domains to the field of machine learning. Data mining is a related field of study, focusing on exploratory data analysis through unsupervised learning.\n",
            "\n",
            "In its application across business problems, machine learning is also referred to as predictive analytics.\n",
            "\n",
            "\n",
            "--- Noisy Text ---\n",
            "\n",
            "Machine learning rocks! It's revolutionizing the world in 2023 (and beyond!).\n",
            "Visit our site: http://example.com for more info.\n",
            "This is awesome!!! We collected 1,234 data points.\n",
            "Softbank and Google are major players.\n",
            "\n"
          ]
        }
      ]
    },
    {
      "cell_type": "code",
      "source": [
        "import re\n",
        "import string\n",
        "\n",
        "# Combine texts\n",
        "raw_text = sample_document + \"\\n\" + noisy_text\n",
        "\n",
        "print(\"Original Raw Text Length:\", len(raw_text))\n",
        "print(\"--- --------------------------- ---\")\n",
        "print(\"--- Original Raw Text ---\")\n",
        "print(raw_text)"
      ],
      "metadata": {
        "colab": {
          "base_uri": "https://localhost:8080/"
        },
        "id": "ybBds3aHZ9UH",
        "outputId": "2d97df29-2c55-4cc6-9f77-3676f067391d"
      },
      "execution_count": null,
      "outputs": [
        {
          "output_type": "stream",
          "name": "stdout",
          "text": [
            "Original Raw Text Length: 1254\n",
            "--- --------------------------- ---\n",
            "--- Original Raw Text ---\n",
            "\n",
            "Machine learning (ML) is a field of study in artificial intelligence concerned with the development of computer algorithms that can learn from and make predictions on data. Algorithms build a mathematical model based on sample data, known as \"training data\", in order to make predictions or decisions without being explicitly programmed to perform the task.\n",
            "\n",
            "Machine learning algorithms are used in a wide variety of applications, such as email filtering and computer vision, where it is difficult or infeasible to develop conventional algorithms to perform the needed tasks. A subset of machine learning is closely related to computational statistics, which focuses on making predictions using computers. Mathematical optimization delivers methods, theory and application domains to the field of machine learning. Data mining is a related field of study, focusing on exploratory data analysis through unsupervised learning.\n",
            "\n",
            "In its application across business problems, machine learning is also referred to as predictive analytics.\n",
            "\n",
            "\n",
            "Machine learning rocks! It's revolutionizing the world in 2023 (and beyond!).\n",
            "Visit our site: http://example.com for more info.\n",
            "This is awesome!!! We collected 1,234 data points.\n",
            "Softbank and Google are major players.\n",
            "\n"
          ]
        }
      ]
    },
    {
      "cell_type": "code",
      "source": [
        "cleaned_text = raw_text.lower()\n",
        "\n",
        "print(\"\\n--- After Lowercasing ---\")\n",
        "print(cleaned_text)"
      ],
      "metadata": {
        "colab": {
          "base_uri": "https://localhost:8080/"
        },
        "id": "wPmbaYqAaSp4",
        "outputId": "bced243f-d8e6-447c-d9e9-07f9ec2bc415"
      },
      "execution_count": null,
      "outputs": [
        {
          "output_type": "stream",
          "name": "stdout",
          "text": [
            "\n",
            "--- After Lowercasing ---\n",
            "\n",
            "machine learning (ml) is a field of study in artificial intelligence concerned with the development of computer algorithms that can learn from and make predictions on data. algorithms build a mathematical model based on sample data, known as \"training data\", in order to make predictions or decisions without being explicitly programmed to perform the task.\n",
            "\n",
            "machine learning algorithms are used in a wide variety of applications, such as email filtering and computer vision, where it is difficult or infeasible to develop conventional algorithms to perform the needed tasks. a subset of machine learning is closely related to computational statistics, which focuses on making predictions using computers. mathematical optimization delivers methods, theory and application domains to the field of machine learning. data mining is a related field of study, focusing on exploratory data analysis through unsupervised learning.\n",
            "\n",
            "in its application across business problems, machine learning is also referred to as predictive analytics.\n",
            "\n",
            "\n",
            "machine learning rocks! it's revolutionizing the world in 2023 (and beyond!).\n",
            "visit our site: http://example.com for more info.\n",
            "this is awesome!!! we collected 1,234 data points.\n",
            "softbank and google are major players.\n",
            "\n"
          ]
        }
      ]
    },
    {
      "cell_type": "code",
      "source": [
        "def remove_urls(text):\n",
        "    url_pattern = r'https?://\\S+|www\\.\\S+'\n",
        "    return re.sub(url_pattern, '', text)"
      ],
      "metadata": {
        "id": "XSq8NRXbauP8"
      },
      "execution_count": null,
      "outputs": []
    },
    {
      "cell_type": "code",
      "source": [
        "print(remove_urls(cleaned_text))"
      ],
      "metadata": {
        "colab": {
          "base_uri": "https://localhost:8080/"
        },
        "id": "LBwacHuib3X6",
        "outputId": "deabd662-5465-40b8-da42-094ef7876d8d"
      },
      "execution_count": null,
      "outputs": [
        {
          "output_type": "stream",
          "name": "stdout",
          "text": [
            "\n",
            "machine learning (ml) is a field of study in artificial intelligence concerned with the development of computer algorithms that can learn from and make predictions on data. algorithms build a mathematical model based on sample data, known as \"training data\", in order to make predictions or decisions without being explicitly programmed to perform the task.\n",
            "\n",
            "machine learning algorithms are used in a wide variety of applications, such as email filtering and computer vision, where it is difficult or infeasible to develop conventional algorithms to perform the needed tasks. a subset of machine learning is closely related to computational statistics, which focuses on making predictions using computers. mathematical optimization delivers methods, theory and application domains to the field of machine learning. data mining is a related field of study, focusing on exploratory data analysis through unsupervised learning.\n",
            "\n",
            "in its application across business problems, machine learning is also referred to as predictive analytics.\n",
            "\n",
            "\n",
            "machine learning rocks! it's revolutionizing the world in 2023 (and beyond!).\n",
            "visit our site:  for more info.\n",
            "this is awesome!!! we collected 1,234 data points.\n",
            "softbank and google are major players.\n",
            "\n"
          ]
        }
      ]
    },
    {
      "cell_type": "code",
      "source": [
        "url_pattern = re.compile(r'http[s]?://(?:[a-zA-Z]|[0-9]|[$-_@.&+]|[!*\\\\(\\\\),]|(?:%[0-9a-fA-F][0-9a-fA-F]))+')\n",
        "  #For now we can generate this regex using ChatGPT else you can use this link for reference https://regex101.com/library/OY96XI\n",
        "\n",
        "\n",
        "cleaned_text = url_pattern.sub(r'', cleaned_text)\n",
        "print(\"\\n--- After Removing URLs ---\")\n",
        "print(cleaned_text)"
      ],
      "metadata": {
        "colab": {
          "base_uri": "https://localhost:8080/"
        },
        "id": "ykk2OMggb5-G",
        "outputId": "e737a8cc-569c-4d73-a399-666e0dc8d71b"
      },
      "execution_count": null,
      "outputs": [
        {
          "output_type": "stream",
          "name": "stdout",
          "text": [
            "\n",
            "--- After Removing URLs ---\n",
            "\n",
            "machine learning (ml) is a field of study in artificial intelligence concerned with the development of computer algorithms that can learn from and make predictions on data. algorithms build a mathematical model based on sample data, known as \"training data\", in order to make predictions or decisions without being explicitly programmed to perform the task.\n",
            "\n",
            "machine learning algorithms are used in a wide variety of applications, such as email filtering and computer vision, where it is difficult or infeasible to develop conventional algorithms to perform the needed tasks. a subset of machine learning is closely related to computational statistics, which focuses on making predictions using computers. mathematical optimization delivers methods, theory and application domains to the field of machine learning. data mining is a related field of study, focusing on exploratory data analysis through unsupervised learning.\n",
            "\n",
            "in its application across business problems, machine learning is also referred to as predictive analytics.\n",
            "\n",
            "\n",
            "machine learning rocks! it's revolutionizing the world in 2023 (and beyond!).\n",
            "visit our site:  for more info.\n",
            "this is awesome!!! we collected 1,234 data points.\n",
            "softbank and google are major players.\n",
            "\n"
          ]
        }
      ]
    },
    {
      "cell_type": "code",
      "source": [
        "trans = str.maketrans(\"aeiou\", \"12345\")\n",
        "# Explanation:\n",
        "#\"a\" → \"1\", \"e\" → \"2\", \"i\" → \"3\", \"o\" → \"4\", \"u\" → \"5\""
      ],
      "metadata": {
        "id": "Fo-7nvTQdlKe"
      },
      "execution_count": null,
      "outputs": []
    },
    {
      "cell_type": "code",
      "source": [
        "text = \"education\"\n"
      ],
      "metadata": {
        "id": "aKynR58Nd-VJ"
      },
      "execution_count": null,
      "outputs": []
    },
    {
      "cell_type": "code",
      "source": [
        "translated = text.translate(trans)\n"
      ],
      "metadata": {
        "id": "4MfjOSOVd-zF"
      },
      "execution_count": null,
      "outputs": []
    },
    {
      "cell_type": "code",
      "source": [
        "translated"
      ],
      "metadata": {
        "colab": {
          "base_uri": "https://localhost:8080/",
          "height": 36
        },
        "id": "e4OOXi-LeOKW",
        "outputId": "5c3ae59c-b59d-45f0-e248-420a90071301"
      },
      "execution_count": null,
      "outputs": [
        {
          "output_type": "execute_result",
          "data": {
            "text/plain": [
              "'2d5c1t34n'"
            ],
            "application/vnd.google.colaboratory.intrinsic+json": {
              "type": "string"
            }
          },
          "metadata": {},
          "execution_count": 14
        }
      ]
    },
    {
      "cell_type": "code",
      "source": [
        "trans = str.maketrans(\"\", \"\", \"ae\")\n",
        "translated = text.translate(trans)\n",
        "translated"
      ],
      "metadata": {
        "colab": {
          "base_uri": "https://localhost:8080/",
          "height": 36
        },
        "id": "FERbAP-9eP2Y",
        "outputId": "4d74410c-47cd-482e-dc91-d99d5f2a0f32"
      },
      "execution_count": null,
      "outputs": [
        {
          "output_type": "execute_result",
          "data": {
            "text/plain": [
              "'duction'"
            ],
            "application/vnd.google.colaboratory.intrinsic+json": {
              "type": "string"
            }
          },
          "metadata": {},
          "execution_count": 18
        }
      ]
    },
    {
      "cell_type": "code",
      "source": [
        "string.punctuation"
      ],
      "metadata": {
        "colab": {
          "base_uri": "https://localhost:8080/",
          "height": 36
        },
        "id": "ut9LP5lxeezJ",
        "outputId": "31754387-d429-46ab-b558-15d62264355a"
      },
      "execution_count": null,
      "outputs": [
        {
          "output_type": "execute_result",
          "data": {
            "text/plain": [
              "'!\"#$%&\\'()*+,-./:;<=>?@[\\\\]^_`{|}~'"
            ],
            "application/vnd.google.colaboratory.intrinsic+json": {
              "type": "string"
            }
          },
          "metadata": {},
          "execution_count": 20
        }
      ]
    },
    {
      "cell_type": "code",
      "source": [
        "translator = str.maketrans('', '', string.punctuation)\n",
        "cleaned_text = cleaned_text.translate(translator)\n",
        "cleaned_text"
      ],
      "metadata": {
        "colab": {
          "base_uri": "https://localhost:8080/",
          "height": 258
        },
        "id": "7bfWG_p1e0uX",
        "outputId": "0ae8e844-02ec-4c87-b96a-443aa7f39a54"
      },
      "execution_count": null,
      "outputs": [
        {
          "output_type": "execute_result",
          "data": {
            "text/plain": [
              "'\\nmachine learning ml is a field of study in artificial intelligence concerned with the development of computer algorithms that can learn from and make predictions on data algorithms build a mathematical model based on sample data known as training data in order to make predictions or decisions without being explicitly programmed to perform the task\\n\\nmachine learning algorithms are used in a wide variety of applications such as email filtering and computer vision where it is difficult or infeasible to develop conventional algorithms to perform the needed tasks a subset of machine learning is closely related to computational statistics which focuses on making predictions using computers mathematical optimization delivers methods theory and application domains to the field of machine learning data mining is a related field of study focusing on exploratory data analysis through unsupervised learning\\n\\nin its application across business problems machine learning is also referred to as predictive analytics\\n\\n\\nmachine learning rocks its revolutionizing the world in 2023 and beyond\\nvisit our site  for more info\\nthis is awesome we collected 1234 data points\\nsoftbank and google are major players\\n'"
            ],
            "application/vnd.google.colaboratory.intrinsic+json": {
              "type": "string"
            }
          },
          "metadata": {},
          "execution_count": 21
        }
      ]
    },
    {
      "cell_type": "code",
      "source": [
        "cleaned_text = re.sub(r'\\d+', '', cleaned_text)#Removes all numbers (whole or part of numbers) from the text.\n",
        "cleaned_text"
      ],
      "metadata": {
        "colab": {
          "base_uri": "https://localhost:8080/",
          "height": 258
        },
        "id": "BrtMxLnXe_j2",
        "outputId": "fee46851-870a-4341-de49-f91e1b56ad16"
      },
      "execution_count": null,
      "outputs": [
        {
          "output_type": "execute_result",
          "data": {
            "text/plain": [
              "'\\nmachine learning ml is a field of study in artificial intelligence concerned with the development of computer algorithms that can learn from and make predictions on data algorithms build a mathematical model based on sample data known as training data in order to make predictions or decisions without being explicitly programmed to perform the task\\n\\nmachine learning algorithms are used in a wide variety of applications such as email filtering and computer vision where it is difficult or infeasible to develop conventional algorithms to perform the needed tasks a subset of machine learning is closely related to computational statistics which focuses on making predictions using computers mathematical optimization delivers methods theory and application domains to the field of machine learning data mining is a related field of study focusing on exploratory data analysis through unsupervised learning\\n\\nin its application across business problems machine learning is also referred to as predictive analytics\\n\\n\\nmachine learning rocks its revolutionizing the world in  and beyond\\nvisit our site  for more info\\nthis is awesome we collected  data points\\nsoftbank and google are major players\\n'"
            ],
            "application/vnd.google.colaboratory.intrinsic+json": {
              "type": "string"
            }
          },
          "metadata": {},
          "execution_count": 22
        }
      ]
    },
    {
      "cell_type": "code",
      "source": [
        "cleaned_text = re.sub(r'\\s+', ' ', cleaned_text).strip()\n",
        "print(\"\\n--- After Removing Extra Whitespace ---\")\n",
        "print(cleaned_text)"
      ],
      "metadata": {
        "colab": {
          "base_uri": "https://localhost:8080/"
        },
        "id": "MuVEWg7Xgdxs",
        "outputId": "99d4207d-b1a5-4be6-ad6f-721711888453"
      },
      "execution_count": null,
      "outputs": [
        {
          "output_type": "stream",
          "name": "stdout",
          "text": [
            "\n",
            "--- After Removing Extra Whitespace ---\n",
            "machine learning ml is a field of study in artificial intelligence concerned with the development of computer algorithms that can learn from and make predictions on data algorithms build a mathematical model based on sample data known as training data in order to make predictions or decisions without being explicitly programmed to perform the task machine learning algorithms are used in a wide variety of applications such as email filtering and computer vision where it is difficult or infeasible to develop conventional algorithms to perform the needed tasks a subset of machine learning is closely related to computational statistics which focuses on making predictions using computers mathematical optimization delivers methods theory and application domains to the field of machine learning data mining is a related field of study focusing on exploratory data analysis through unsupervised learning in its application across business problems machine learning is also referred to as predictive analytics machine learning rocks its revolutionizing the world in and beyond visit our site for more info this is awesome we collected data points softbank and google are major players\n"
          ]
        }
      ]
    },
    {
      "cell_type": "code",
      "source": [
        "!python -m spacy download en_core_web_sm"
      ],
      "metadata": {
        "colab": {
          "base_uri": "https://localhost:8080/"
        },
        "id": "_skiufeXgq-T",
        "outputId": "8cd5b6f9-ff06-4d9c-d291-1de74dfc16ac"
      },
      "execution_count": null,
      "outputs": [
        {
          "output_type": "stream",
          "name": "stdout",
          "text": [
            "Collecting en-core-web-sm==3.8.0\n",
            "  Downloading https://github.com/explosion/spacy-models/releases/download/en_core_web_sm-3.8.0/en_core_web_sm-3.8.0-py3-none-any.whl (12.8 MB)\n",
            "\u001b[2K     \u001b[90m━━━━━━━━━━━━━━━━━━━━━━━━━━━━━━━━━━━━━━━\u001b[0m \u001b[32m12.8/12.8 MB\u001b[0m \u001b[31m103.6 MB/s\u001b[0m eta \u001b[36m0:00:00\u001b[0m\n",
            "\u001b[?25h\u001b[38;5;2m✔ Download and installation successful\u001b[0m\n",
            "You can now load the package via spacy.load('en_core_web_sm')\n",
            "\u001b[38;5;3m⚠ Restart to reload dependencies\u001b[0m\n",
            "If you are in a Jupyter or Colab notebook, you may need to restart Python in\n",
            "order to load all the package's dependencies. You can do this by selecting the\n",
            "'Restart kernel' or 'Restart runtime' option.\n"
          ]
        }
      ]
    },
    {
      "cell_type": "code",
      "source": [
        "from nltk.tokenize import sent_tokenize\n",
        "import spacy\n",
        "\n",
        "# Load the small English spaCy model\n",
        "nlp = spacy.load('en_core_web_sm')"
      ],
      "metadata": {
        "id": "hkos0JbFhLBn"
      },
      "execution_count": null,
      "outputs": []
    },
    {
      "cell_type": "code",
      "source": [
        "hello I am shivank. This is AI class. hello everyone\n",
        "\n",
        "hello I am shivank.\n",
        "This is AI class.\n",
        "hello everyone"
      ],
      "metadata": {
        "id": "AL_uDh9ShO3y"
      },
      "execution_count": null,
      "outputs": []
    },
    {
      "cell_type": "code",
      "source": [
        "nltk_sentences = sent_tokenize(raw_text)"
      ],
      "metadata": {
        "id": "pCMsKuyAhdB9"
      },
      "execution_count": null,
      "outputs": []
    },
    {
      "cell_type": "code",
      "source": [
        "nltk_sentences"
      ],
      "metadata": {
        "colab": {
          "base_uri": "https://localhost:8080/"
        },
        "id": "nyD24rWshhiO",
        "outputId": "1bf35c3a-189c-48f7-c740-e0c3c94e87cb"
      },
      "execution_count": null,
      "outputs": [
        {
          "output_type": "execute_result",
          "data": {
            "text/plain": [
              "['\\nMachine learning (ML) is a field of study in artificial intelligence concerned with the development of computer algorithms that can learn from and make predictions on data.',\n",
              " 'Algorithms build a mathematical model based on sample data, known as \"training data\", in order to make predictions or decisions without being explicitly programmed to perform the task.',\n",
              " 'Machine learning algorithms are used in a wide variety of applications, such as email filtering and computer vision, where it is difficult or infeasible to develop conventional algorithms to perform the needed tasks.',\n",
              " 'A subset of machine learning is closely related to computational statistics, which focuses on making predictions using computers.',\n",
              " 'Mathematical optimization delivers methods, theory and application domains to the field of machine learning.',\n",
              " 'Data mining is a related field of study, focusing on exploratory data analysis through unsupervised learning.',\n",
              " 'In its application across business problems, machine learning is also referred to as predictive analytics.',\n",
              " 'Machine learning rocks!',\n",
              " \"It's revolutionizing the world in 2023 (and beyond!).\",\n",
              " 'Visit our site: http://example.com for more info.',\n",
              " 'This is awesome!!!',\n",
              " 'We collected 1,234 data points.',\n",
              " 'Softbank and Google are major players.']"
            ]
          },
          "metadata": {},
          "execution_count": 28
        }
      ]
    },
    {
      "cell_type": "code",
      "source": [
        "for i, sentence in enumerate(nltk_sentences):\n",
        "    print(f\"Sentence {i+1}: {sentence}\")"
      ],
      "metadata": {
        "colab": {
          "base_uri": "https://localhost:8080/"
        },
        "id": "sRXnzVS-hjX3",
        "outputId": "af6ae5c9-e1a8-445a-f50e-8ce8e85c9eb6"
      },
      "execution_count": null,
      "outputs": [
        {
          "output_type": "stream",
          "name": "stdout",
          "text": [
            "Sentence 1: \n",
            "Machine learning (ML) is a field of study in artificial intelligence concerned with the development of computer algorithms that can learn from and make predictions on data.\n",
            "Sentence 2: Algorithms build a mathematical model based on sample data, known as \"training data\", in order to make predictions or decisions without being explicitly programmed to perform the task.\n",
            "Sentence 3: Machine learning algorithms are used in a wide variety of applications, such as email filtering and computer vision, where it is difficult or infeasible to develop conventional algorithms to perform the needed tasks.\n",
            "Sentence 4: A subset of machine learning is closely related to computational statistics, which focuses on making predictions using computers.\n",
            "Sentence 5: Mathematical optimization delivers methods, theory and application domains to the field of machine learning.\n",
            "Sentence 6: Data mining is a related field of study, focusing on exploratory data analysis through unsupervised learning.\n",
            "Sentence 7: In its application across business problems, machine learning is also referred to as predictive analytics.\n",
            "Sentence 8: Machine learning rocks!\n",
            "Sentence 9: It's revolutionizing the world in 2023 (and beyond!).\n",
            "Sentence 10: Visit our site: http://example.com for more info.\n",
            "Sentence 11: This is awesome!!!\n",
            "Sentence 12: We collected 1,234 data points.\n",
            "Sentence 13: Softbank and Google are major players.\n"
          ]
        }
      ]
    },
    {
      "cell_type": "code",
      "source": [
        "spacy_doc_raw = nlp(raw_text)"
      ],
      "metadata": {
        "id": "k8yFxDbwhzwS"
      },
      "execution_count": null,
      "outputs": []
    },
    {
      "cell_type": "code",
      "source": [
        "spacy_doc_raw.sents"
      ],
      "metadata": {
        "colab": {
          "base_uri": "https://localhost:8080/"
        },
        "id": "oPKTcrzjh8kV",
        "outputId": "15b4e5d7-cf85-428a-af4d-ed1215f8a25b"
      },
      "execution_count": null,
      "outputs": [
        {
          "output_type": "execute_result",
          "data": {
            "text/plain": [
              "<generator at 0x789418b18670>"
            ]
          },
          "metadata": {},
          "execution_count": 32
        }
      ]
    },
    {
      "cell_type": "code",
      "source": [
        "spacy_sentences = [sent.text for sent in spacy_doc_raw.sents]\n"
      ],
      "metadata": {
        "id": "CTbfRRcth-Jx"
      },
      "execution_count": null,
      "outputs": []
    },
    {
      "cell_type": "code",
      "source": [
        "spacy_sentences"
      ],
      "metadata": {
        "colab": {
          "base_uri": "https://localhost:8080/"
        },
        "id": "70bky8RKiLcL",
        "outputId": "5c36a40d-cc97-47f9-bd49-78cf3e2f021a"
      },
      "execution_count": null,
      "outputs": [
        {
          "output_type": "execute_result",
          "data": {
            "text/plain": [
              "['\\nMachine learning (ML) is a field of study in artificial intelligence concerned with the development of computer algorithms that can learn from and make predictions on data.',\n",
              " 'Algorithms build a mathematical model based on sample data, known as \"training data\", in order to make predictions or decisions without being explicitly programmed to perform the task.\\n\\n',\n",
              " 'Machine learning algorithms are used in a wide variety of applications, such as email filtering and computer vision, where it is difficult or infeasible to develop conventional algorithms to perform the needed tasks.',\n",
              " 'A subset of machine learning is closely related to computational statistics, which focuses on making predictions using computers.',\n",
              " 'Mathematical optimization delivers methods, theory and application domains to the field of machine learning.',\n",
              " 'Data mining is a related field of study, focusing on exploratory data analysis through unsupervised learning.\\n\\n',\n",
              " 'In its application across business problems, machine learning is also referred to as predictive analytics.\\n\\n\\n',\n",
              " 'Machine learning rocks!',\n",
              " \"It's revolutionizing the world in 2023 (and beyond!).\\n\",\n",
              " 'Visit our site: http://example.com for more info.\\n',\n",
              " 'This is awesome!!!',\n",
              " 'We collected 1,234 data points.\\n',\n",
              " 'Softbank and Google are major players.\\n']"
            ]
          },
          "metadata": {},
          "execution_count": 34
        }
      ]
    },
    {
      "cell_type": "code",
      "source": [
        "for i, sentence in enumerate(spacy_sentences):\n",
        "    print(f\"Sentence {i+1}: {sentence}\")"
      ],
      "metadata": {
        "colab": {
          "base_uri": "https://localhost:8080/"
        },
        "id": "St61zI4FiMhn",
        "outputId": "538cad39-610c-46af-d9d9-d183ae45e768"
      },
      "execution_count": null,
      "outputs": [
        {
          "output_type": "stream",
          "name": "stdout",
          "text": [
            "Sentence 1: \n",
            "Machine learning (ML) is a field of study in artificial intelligence concerned with the development of computer algorithms that can learn from and make predictions on data.\n",
            "Sentence 2: Algorithms build a mathematical model based on sample data, known as \"training data\", in order to make predictions or decisions without being explicitly programmed to perform the task.\n",
            "\n",
            "\n",
            "Sentence 3: Machine learning algorithms are used in a wide variety of applications, such as email filtering and computer vision, where it is difficult or infeasible to develop conventional algorithms to perform the needed tasks.\n",
            "Sentence 4: A subset of machine learning is closely related to computational statistics, which focuses on making predictions using computers.\n",
            "Sentence 5: Mathematical optimization delivers methods, theory and application domains to the field of machine learning.\n",
            "Sentence 6: Data mining is a related field of study, focusing on exploratory data analysis through unsupervised learning.\n",
            "\n",
            "\n",
            "Sentence 7: In its application across business problems, machine learning is also referred to as predictive analytics.\n",
            "\n",
            "\n",
            "\n",
            "Sentence 8: Machine learning rocks!\n",
            "Sentence 9: It's revolutionizing the world in 2023 (and beyond!).\n",
            "\n",
            "Sentence 10: Visit our site: http://example.com for more info.\n",
            "\n",
            "Sentence 11: This is awesome!!!\n",
            "Sentence 12: We collected 1,234 data points.\n",
            "\n",
            "Sentence 13: Softbank and Google are major players.\n",
            "\n"
          ]
        }
      ]
    },
    {
      "cell_type": "code",
      "source": [
        "from nltk.tokenize import word_tokenize\n"
      ],
      "metadata": {
        "id": "IxAib3OOiQYS"
      },
      "execution_count": null,
      "outputs": []
    },
    {
      "cell_type": "code",
      "source": [
        "nltk_word_tokens = word_tokenize(cleaned_text)\n"
      ],
      "metadata": {
        "id": "dBAep5MWkF-O"
      },
      "execution_count": null,
      "outputs": []
    },
    {
      "cell_type": "code",
      "source": [
        "nltk_word_tokens[:10]"
      ],
      "metadata": {
        "colab": {
          "base_uri": "https://localhost:8080/"
        },
        "id": "EST8TXoZkHZg",
        "outputId": "6502eb2d-880f-49c0-e56a-c9ff439a9f43"
      },
      "execution_count": null,
      "outputs": [
        {
          "output_type": "execute_result",
          "data": {
            "text/plain": [
              "['machine',\n",
              " 'learning',\n",
              " 'ml',\n",
              " 'is',\n",
              " 'a',\n",
              " 'field',\n",
              " 'of',\n",
              " 'study',\n",
              " 'in',\n",
              " 'artificial']"
            ]
          },
          "metadata": {},
          "execution_count": 39
        }
      ]
    },
    {
      "cell_type": "code",
      "source": [
        "spacy_doc_cleaned = nlp(cleaned_text)\n"
      ],
      "metadata": {
        "id": "4aW4xfqJkJN1"
      },
      "execution_count": null,
      "outputs": []
    },
    {
      "cell_type": "code",
      "source": [
        "spacy_word_tokens = [token.text for token in spacy_doc_cleaned]\n"
      ],
      "metadata": {
        "id": "QoCeCWzOkPWF"
      },
      "execution_count": null,
      "outputs": []
    },
    {
      "cell_type": "code",
      "source": [
        "spacy_word_tokens[:10]"
      ],
      "metadata": {
        "colab": {
          "base_uri": "https://localhost:8080/"
        },
        "id": "Kzvl-ULMkUv-",
        "outputId": "b8e8460c-7628-4d4f-8e9b-ac41d077b0dd"
      },
      "execution_count": null,
      "outputs": [
        {
          "output_type": "execute_result",
          "data": {
            "text/plain": [
              "['machine',\n",
              " 'learning',\n",
              " 'ml',\n",
              " 'is',\n",
              " 'a',\n",
              " 'field',\n",
              " 'of',\n",
              " 'study',\n",
              " 'in',\n",
              " 'artificial']"
            ]
          },
          "metadata": {},
          "execution_count": 42
        }
      ]
    },
    {
      "cell_type": "code",
      "source": [
        "from nltk.corpus import stopwords\n"
      ],
      "metadata": {
        "id": "LVEYApBWkWiT"
      },
      "execution_count": null,
      "outputs": []
    },
    {
      "cell_type": "code",
      "source": [
        "nltk_stop_words = set(stopwords.words('english'))\n"
      ],
      "metadata": {
        "id": "sj2M6cWGktjZ"
      },
      "execution_count": null,
      "outputs": []
    },
    {
      "cell_type": "code",
      "source": [
        "nltk_tokens_no_stopwords = [word for word in nltk_word_tokens if word not in nltk_stop_words]\n"
      ],
      "metadata": {
        "id": "cScIKgqJkxra"
      },
      "execution_count": null,
      "outputs": []
    },
    {
      "cell_type": "code",
      "source": [
        "nltk_tokens_no_stopwords"
      ],
      "metadata": {
        "colab": {
          "base_uri": "https://localhost:8080/"
        },
        "id": "K_-bwZcfky1F",
        "outputId": "c650463a-eeca-4e4d-d3a2-99a37eb015d7"
      },
      "execution_count": null,
      "outputs": [
        {
          "output_type": "execute_result",
          "data": {
            "text/plain": [
              "['machine',\n",
              " 'learning',\n",
              " 'ml',\n",
              " 'field',\n",
              " 'study',\n",
              " 'artificial',\n",
              " 'intelligence',\n",
              " 'concerned',\n",
              " 'development',\n",
              " 'computer',\n",
              " 'algorithms',\n",
              " 'learn',\n",
              " 'make',\n",
              " 'predictions',\n",
              " 'data',\n",
              " 'algorithms',\n",
              " 'build',\n",
              " 'mathematical',\n",
              " 'model',\n",
              " 'based',\n",
              " 'sample',\n",
              " 'data',\n",
              " 'known',\n",
              " 'training',\n",
              " 'data',\n",
              " 'order',\n",
              " 'make',\n",
              " 'predictions',\n",
              " 'decisions',\n",
              " 'without',\n",
              " 'explicitly',\n",
              " 'programmed',\n",
              " 'perform',\n",
              " 'task',\n",
              " 'machine',\n",
              " 'learning',\n",
              " 'algorithms',\n",
              " 'used',\n",
              " 'wide',\n",
              " 'variety',\n",
              " 'applications',\n",
              " 'email',\n",
              " 'filtering',\n",
              " 'computer',\n",
              " 'vision',\n",
              " 'difficult',\n",
              " 'infeasible',\n",
              " 'develop',\n",
              " 'conventional',\n",
              " 'algorithms',\n",
              " 'perform',\n",
              " 'needed',\n",
              " 'tasks',\n",
              " 'subset',\n",
              " 'machine',\n",
              " 'learning',\n",
              " 'closely',\n",
              " 'related',\n",
              " 'computational',\n",
              " 'statistics',\n",
              " 'focuses',\n",
              " 'making',\n",
              " 'predictions',\n",
              " 'using',\n",
              " 'computers',\n",
              " 'mathematical',\n",
              " 'optimization',\n",
              " 'delivers',\n",
              " 'methods',\n",
              " 'theory',\n",
              " 'application',\n",
              " 'domains',\n",
              " 'field',\n",
              " 'machine',\n",
              " 'learning',\n",
              " 'data',\n",
              " 'mining',\n",
              " 'related',\n",
              " 'field',\n",
              " 'study',\n",
              " 'focusing',\n",
              " 'exploratory',\n",
              " 'data',\n",
              " 'analysis',\n",
              " 'unsupervised',\n",
              " 'learning',\n",
              " 'application',\n",
              " 'across',\n",
              " 'business',\n",
              " 'problems',\n",
              " 'machine',\n",
              " 'learning',\n",
              " 'also',\n",
              " 'referred',\n",
              " 'predictive',\n",
              " 'analytics',\n",
              " 'machine',\n",
              " 'learning',\n",
              " 'rocks',\n",
              " 'revolutionizing',\n",
              " 'world',\n",
              " 'beyond',\n",
              " 'visit',\n",
              " 'site',\n",
              " 'info',\n",
              " 'awesome',\n",
              " 'collected',\n",
              " 'data',\n",
              " 'points',\n",
              " 'softbank',\n",
              " 'google',\n",
              " 'major',\n",
              " 'players']"
            ]
          },
          "metadata": {},
          "execution_count": 47
        }
      ]
    },
    {
      "cell_type": "code",
      "source": [
        "nltk_stop_words"
      ],
      "metadata": {
        "colab": {
          "base_uri": "https://localhost:8080/"
        },
        "id": "AzKGkugPk_NX",
        "outputId": "ee1e9008-356d-49d1-faf9-60b068d0c8c1"
      },
      "execution_count": null,
      "outputs": [
        {
          "output_type": "execute_result",
          "data": {
            "text/plain": [
              "{'a',\n",
              " 'about',\n",
              " 'above',\n",
              " 'after',\n",
              " 'again',\n",
              " 'against',\n",
              " 'ain',\n",
              " 'all',\n",
              " 'am',\n",
              " 'an',\n",
              " 'and',\n",
              " 'any',\n",
              " 'are',\n",
              " 'aren',\n",
              " \"aren't\",\n",
              " 'as',\n",
              " 'at',\n",
              " 'be',\n",
              " 'because',\n",
              " 'been',\n",
              " 'before',\n",
              " 'being',\n",
              " 'below',\n",
              " 'between',\n",
              " 'both',\n",
              " 'but',\n",
              " 'by',\n",
              " 'can',\n",
              " 'couldn',\n",
              " \"couldn't\",\n",
              " 'd',\n",
              " 'did',\n",
              " 'didn',\n",
              " \"didn't\",\n",
              " 'do',\n",
              " 'does',\n",
              " 'doesn',\n",
              " \"doesn't\",\n",
              " 'doing',\n",
              " 'don',\n",
              " \"don't\",\n",
              " 'down',\n",
              " 'during',\n",
              " 'each',\n",
              " 'few',\n",
              " 'for',\n",
              " 'from',\n",
              " 'further',\n",
              " 'had',\n",
              " 'hadn',\n",
              " \"hadn't\",\n",
              " 'has',\n",
              " 'hasn',\n",
              " \"hasn't\",\n",
              " 'have',\n",
              " 'haven',\n",
              " \"haven't\",\n",
              " 'having',\n",
              " 'he',\n",
              " \"he'd\",\n",
              " \"he'll\",\n",
              " \"he's\",\n",
              " 'her',\n",
              " 'here',\n",
              " 'hers',\n",
              " 'herself',\n",
              " 'him',\n",
              " 'himself',\n",
              " 'his',\n",
              " 'how',\n",
              " 'i',\n",
              " \"i'd\",\n",
              " \"i'll\",\n",
              " \"i'm\",\n",
              " \"i've\",\n",
              " 'if',\n",
              " 'in',\n",
              " 'into',\n",
              " 'is',\n",
              " 'isn',\n",
              " \"isn't\",\n",
              " 'it',\n",
              " \"it'd\",\n",
              " \"it'll\",\n",
              " \"it's\",\n",
              " 'its',\n",
              " 'itself',\n",
              " 'just',\n",
              " 'll',\n",
              " 'm',\n",
              " 'ma',\n",
              " 'me',\n",
              " 'mightn',\n",
              " \"mightn't\",\n",
              " 'more',\n",
              " 'most',\n",
              " 'mustn',\n",
              " \"mustn't\",\n",
              " 'my',\n",
              " 'myself',\n",
              " 'needn',\n",
              " \"needn't\",\n",
              " 'no',\n",
              " 'nor',\n",
              " 'not',\n",
              " 'now',\n",
              " 'o',\n",
              " 'of',\n",
              " 'off',\n",
              " 'on',\n",
              " 'once',\n",
              " 'only',\n",
              " 'or',\n",
              " 'other',\n",
              " 'our',\n",
              " 'ours',\n",
              " 'ourselves',\n",
              " 'out',\n",
              " 'over',\n",
              " 'own',\n",
              " 're',\n",
              " 's',\n",
              " 'same',\n",
              " 'shan',\n",
              " \"shan't\",\n",
              " 'she',\n",
              " \"she'd\",\n",
              " \"she'll\",\n",
              " \"she's\",\n",
              " 'should',\n",
              " \"should've\",\n",
              " 'shouldn',\n",
              " \"shouldn't\",\n",
              " 'so',\n",
              " 'some',\n",
              " 'such',\n",
              " 't',\n",
              " 'than',\n",
              " 'that',\n",
              " \"that'll\",\n",
              " 'the',\n",
              " 'their',\n",
              " 'theirs',\n",
              " 'them',\n",
              " 'themselves',\n",
              " 'then',\n",
              " 'there',\n",
              " 'these',\n",
              " 'they',\n",
              " \"they'd\",\n",
              " \"they'll\",\n",
              " \"they're\",\n",
              " \"they've\",\n",
              " 'this',\n",
              " 'those',\n",
              " 'through',\n",
              " 'to',\n",
              " 'too',\n",
              " 'under',\n",
              " 'until',\n",
              " 'up',\n",
              " 've',\n",
              " 'very',\n",
              " 'was',\n",
              " 'wasn',\n",
              " \"wasn't\",\n",
              " 'we',\n",
              " \"we'd\",\n",
              " \"we'll\",\n",
              " \"we're\",\n",
              " \"we've\",\n",
              " 'were',\n",
              " 'weren',\n",
              " \"weren't\",\n",
              " 'what',\n",
              " 'when',\n",
              " 'where',\n",
              " 'which',\n",
              " 'while',\n",
              " 'who',\n",
              " 'whom',\n",
              " 'why',\n",
              " 'will',\n",
              " 'with',\n",
              " 'won',\n",
              " \"won't\",\n",
              " 'wouldn',\n",
              " \"wouldn't\",\n",
              " 'y',\n",
              " 'you',\n",
              " \"you'd\",\n",
              " \"you'll\",\n",
              " \"you're\",\n",
              " \"you've\",\n",
              " 'your',\n",
              " 'yours',\n",
              " 'yourself',\n",
              " 'yourselves'}"
            ]
          },
          "metadata": {},
          "execution_count": 48
        }
      ]
    },
    {
      "cell_type": "code",
      "source": [
        "spacy_tokens_no_stopwords = [token.text for token in spacy_doc_cleaned if not token.is_stop]\n",
        "print(\"\\n--- spaCy Tokens after Stop Word Removal ---\")\n",
        "print(spacy_tokens_no_stopwords[:20])"
      ],
      "metadata": {
        "colab": {
          "base_uri": "https://localhost:8080/"
        },
        "id": "qDgxvfjwlTll",
        "outputId": "98619b24-d088-4297-e122-650bfc3ac5f1"
      },
      "execution_count": null,
      "outputs": [
        {
          "output_type": "stream",
          "name": "stdout",
          "text": [
            "\n",
            "--- spaCy Tokens after Stop Word Removal ---\n",
            "['machine', 'learning', 'ml', 'field', 'study', 'artificial', 'intelligence', 'concerned', 'development', 'computer', 'algorithms', 'learn', 'predictions', 'data', 'algorithms', 'build', 'mathematical', 'model', 'based', 'sample']\n"
          ]
        }
      ]
    },
    {
      "cell_type": "code",
      "source": [
        "from collections import Counter\n"
      ],
      "metadata": {
        "id": "feSREYPMlbrc"
      },
      "execution_count": null,
      "outputs": []
    },
    {
      "cell_type": "code",
      "source": [
        "word_counts = Counter(spacy_tokens_no_stopwords)\n"
      ],
      "metadata": {
        "id": "E4RyTDkOll69"
      },
      "execution_count": null,
      "outputs": []
    },
    {
      "cell_type": "code",
      "source": [
        "word_counts"
      ],
      "metadata": {
        "colab": {
          "base_uri": "https://localhost:8080/"
        },
        "id": "N46JsUrjlpjM",
        "outputId": "35f22202-67f4-4c1d-d425-a9606717dfe9"
      },
      "execution_count": null,
      "outputs": [
        {
          "output_type": "execute_result",
          "data": {
            "text/plain": [
              "Counter({'machine': 6,\n",
              "         'learning': 7,\n",
              "         'ml': 1,\n",
              "         'field': 3,\n",
              "         'study': 2,\n",
              "         'artificial': 1,\n",
              "         'intelligence': 1,\n",
              "         'concerned': 1,\n",
              "         'development': 1,\n",
              "         'computer': 2,\n",
              "         'algorithms': 4,\n",
              "         'learn': 1,\n",
              "         'predictions': 3,\n",
              "         'data': 6,\n",
              "         'build': 1,\n",
              "         'mathematical': 2,\n",
              "         'model': 1,\n",
              "         'based': 1,\n",
              "         'sample': 1,\n",
              "         'known': 1,\n",
              "         'training': 1,\n",
              "         'order': 1,\n",
              "         'decisions': 1,\n",
              "         'explicitly': 1,\n",
              "         'programmed': 1,\n",
              "         'perform': 2,\n",
              "         'task': 1,\n",
              "         'wide': 1,\n",
              "         'variety': 1,\n",
              "         'applications': 1,\n",
              "         'email': 1,\n",
              "         'filtering': 1,\n",
              "         'vision': 1,\n",
              "         'difficult': 1,\n",
              "         'infeasible': 1,\n",
              "         'develop': 1,\n",
              "         'conventional': 1,\n",
              "         'needed': 1,\n",
              "         'tasks': 1,\n",
              "         'subset': 1,\n",
              "         'closely': 1,\n",
              "         'related': 2,\n",
              "         'computational': 1,\n",
              "         'statistics': 1,\n",
              "         'focuses': 1,\n",
              "         'making': 1,\n",
              "         'computers': 1,\n",
              "         'optimization': 1,\n",
              "         'delivers': 1,\n",
              "         'methods': 1,\n",
              "         'theory': 1,\n",
              "         'application': 2,\n",
              "         'domains': 1,\n",
              "         'mining': 1,\n",
              "         'focusing': 1,\n",
              "         'exploratory': 1,\n",
              "         'analysis': 1,\n",
              "         'unsupervised': 1,\n",
              "         'business': 1,\n",
              "         'problems': 1,\n",
              "         'referred': 1,\n",
              "         'predictive': 1,\n",
              "         'analytics': 1,\n",
              "         'rocks': 1,\n",
              "         'revolutionizing': 1,\n",
              "         'world': 1,\n",
              "         'visit': 1,\n",
              "         'site': 1,\n",
              "         'info': 1,\n",
              "         'awesome': 1,\n",
              "         'collected': 1,\n",
              "         'points': 1,\n",
              "         'softbank': 1,\n",
              "         'google': 1,\n",
              "         'major': 1,\n",
              "         'players': 1})"
            ]
          },
          "metadata": {},
          "execution_count": 52
        }
      ]
    },
    {
      "cell_type": "code",
      "source": [
        "# running -> run\n",
        "#stemming -> rule based \"ing\"-> \"\"\n",
        "#     \"s\" -> \"\""
      ],
      "metadata": {
        "id": "xbZRlx9SlrBW"
      },
      "execution_count": null,
      "outputs": []
    },
    {
      "cell_type": "code",
      "source": [
        "from nltk.stem import PorterStemmer, WordNetLemmatizer\n",
        "from nltk.corpus import wordnet\n",
        "# nltk, spacy are already imported\n",
        "\n",
        "\n",
        "# --- Stemming with NLTK (PorterStemmer) ---\n",
        "porter_stemmer = PorterStemmer()\n",
        "stemmed_tokens = [porter_stemmer.stem(word) for word in nltk_tokens_no_stopwords] # Apply to NLTK tokens after stop word removal\n",
        "\n",
        "print(\"--- Stemmed Tokens (NLTK PorterStemmer) ---\")\n",
        "print(stemmed_tokens[:20])"
      ],
      "metadata": {
        "colab": {
          "base_uri": "https://localhost:8080/"
        },
        "id": "-KBtmw9imV1D",
        "outputId": "7d2bdeef-6f77-41cf-8498-15b0b875a840"
      },
      "execution_count": null,
      "outputs": [
        {
          "output_type": "stream",
          "name": "stdout",
          "text": [
            "--- Stemmed Tokens (NLTK PorterStemmer) ---\n",
            "['machin', 'learn', 'ml', 'field', 'studi', 'artifici', 'intellig', 'concern', 'develop', 'comput', 'algorithm', 'learn', 'make', 'predict', 'data', 'algorithm', 'build', 'mathemat', 'model', 'base']\n"
          ]
        }
      ]
    },
    {
      "cell_type": "code",
      "source": [
        "\"running\", \"run\"  -> \"run\"\n",
        "\n",
        "\"sets\", \"set\" -> \"set\""
      ],
      "metadata": {
        "id": "xAkfssydmno2"
      },
      "execution_count": null,
      "outputs": []
    },
    {
      "cell_type": "code",
      "source": [
        "\"that\", \"sets\", \"running\", \"run\", \"set\", Indias, India\n",
        "India is great. Indias\n",
        "\n",
        "India is great Indias\n",
        "\n"
      ],
      "metadata": {
        "id": "qV0vZAYrnNvb"
      },
      "execution_count": null,
      "outputs": []
    },
    {
      "cell_type": "code",
      "source": [
        "\"l\" -> \"\"\n",
        "nikil -> nikhi\n",
        "\n",
        "viagra -> vi9gra\n",
        "\"better\" -> \"good\""
      ],
      "metadata": {
        "id": "1X0Viovwn2AV"
      },
      "execution_count": null,
      "outputs": []
    },
    {
      "cell_type": "code",
      "source": [
        "spacy_lemmatized_tokens = [token.lemma_ for token in spacy_doc_cleaned if not token.is_stop]\n",
        "\n",
        "print(\"\\n--- Lemmatized Tokens (spaCy) ---\")\n",
        "print(spacy_lemmatized_tokens[:20])"
      ],
      "metadata": {
        "colab": {
          "base_uri": "https://localhost:8080/"
        },
        "id": "Ry_H1RwQpB8a",
        "outputId": "4b0172fa-4b67-46c1-c951-a683592c7849"
      },
      "execution_count": null,
      "outputs": [
        {
          "output_type": "stream",
          "name": "stdout",
          "text": [
            "\n",
            "--- Lemmatized Tokens (spaCy) ---\n",
            "['machine', 'learning', 'ml', 'field', 'study', 'artificial', 'intelligence', 'concern', 'development', 'computer', 'algorithm', 'learn', 'prediction', 'datum', 'algorithm', 'build', 'mathematical', 'model', 'base', 'sample']\n"
          ]
        }
      ]
    },
    {
      "cell_type": "code",
      "source": [
        "from sklearn.feature_extraction.text import CountVectorizer, TfidfVectorizer\n",
        "import pandas as pd"
      ],
      "metadata": {
        "id": "_V5dbfmipCq2"
      },
      "execution_count": null,
      "outputs": []
    },
    {
      "cell_type": "code",
      "source": [
        "texts = [\n",
        "    \"Machine learning rocks! It's revolutionizing the world in 2023 (and beyond!). Visit our site: http://example.com for more info.\",\n",
        "    \"This is awesome!!! We collected 1,234 data points.\",\n",
        "    \"Softbank and Google are major players.\",\n",
        "    \"Predictive analytics uses machine learning to solve business problems.\",\n",
        "]"
      ],
      "metadata": {
        "id": "nyy81-6npSgH"
      },
      "execution_count": null,
      "outputs": []
    },
    {
      "cell_type": "code",
      "source": [
        "stop_words = set(stopwords.words('english'))\n",
        "\n",
        "def clean_text(text):\n",
        "    # Lowercase\n",
        "    text = text.lower()\n",
        "    # Remove URLs\n",
        "    text = re.sub(r'https?://\\S+|www\\.\\S+', '', text)\n",
        "    # Remove punctuation\n",
        "    text = text.translate(str.maketrans('', '', string.punctuation))\n",
        "    # Remove numbers\n",
        "    text = re.sub(r'\\d+', '', text)\n",
        "    # Remove extra spaces\n",
        "    text = re.sub(r'\\s+', ' ', text).strip()\n",
        "\n",
        "    # Process text with SpaCy\n",
        "    doc = nlp(text)\n",
        "\n",
        "    # Lemmatization + remove stopwords + tokens length > 1 (to skip leftover punct or spaces)\n",
        "    tokens = [token.lemma_ for token in doc if token.text not in stop_words and len(token.text) > 1]\n",
        "\n",
        "    # Join back to string\n",
        "    cleaned_text = \" \".join(tokens)\n",
        "    return cleaned_text\n",
        "\n",
        "cleaned_texts = [clean_text(text) for text in texts]\n",
        "\n",
        "print(\"Cleaned Texts:\")\n",
        "for i, txt in enumerate(cleaned_texts, 1):\n",
        "    print(f\"{i}: {txt}\")\n"
      ],
      "metadata": {
        "colab": {
          "base_uri": "https://localhost:8080/"
        },
        "id": "x4QmFpxipUlZ",
        "outputId": "0ab0a2db-4e4e-4f8b-8cc3-313561497ab5"
      },
      "execution_count": null,
      "outputs": [
        {
          "output_type": "stream",
          "name": "stdout",
          "text": [
            "Cleaned Texts:\n",
            "1: machine learning rock revolutionize world beyond visit site info\n",
            "2: awesome collect data point\n",
            "3: softbank google major player\n",
            "4: predictive analytic use machine learn solve business problem\n"
          ]
        }
      ]
    },
    {
      "cell_type": "markdown",
      "source": [
        "\n",
        "\n",
        "---\n",
        "\n",
        "# 🔍 Stemming vs. Lemmatization — Industry Perspective\n",
        "\n",
        "| Feature       | **Stemming**                       | **Lemmatization**                 |\n",
        "| ------------- | ---------------------------------- | --------------------------------- |\n",
        "| Output form   | Root form (may not be a real word) | Dictionary root (lemma)           |\n",
        "| Method        | Rule-based truncation              | Morphological + dictionary lookup |\n",
        "| Accuracy      | Lower                              | Higher                            |\n",
        "| Speed         | Faster                             | Slower                            |\n",
        "| Real word?    | Often no                           | Yes                               |\n",
        "| Context used? | No                                 | Yes (Part of Speech used)         |\n",
        "\n",
        "---\n",
        "\n",
        "## 📘 Definitions\n",
        "\n",
        "### 🔹 Stemming:\n",
        "\n",
        "Stemming chops off prefixes/suffixes to reduce a word to its **base or root form**, often crudely.\n",
        "\n",
        "🔧 Example:\n",
        "\n",
        "```text\n",
        "\"playing\", \"played\", \"plays\" → \"play\"\n",
        "\"general\", \"generous\", \"generation\" → \"gener\"\n",
        "```\n",
        "\n",
        "**Tool example:** `PorterStemmer` or `SnowballStemmer` in NLTK\n",
        "\n",
        "---\n",
        "\n",
        "### 🔹 Lemmatization:\n",
        "\n",
        "Lemmatization reduces words to their **lemma**, which is the correct dictionary form, using linguistic rules and **part-of-speech (POS)**.\n",
        "\n",
        "🔧 Example:\n",
        "\n",
        "```text\n",
        "\"running\" → \"run\" (verb)\n",
        "\"better\" → \"good\" (adjective)\n",
        "\"was\" → \"be\"\n",
        "```\n",
        "\n",
        "**Tool example:** `WordNetLemmatizer` in NLTK or SpaCy’s lemmatizer.\n",
        "\n",
        "---\n",
        "\n",
        "## 🏭 Industry Use Cases\n",
        "\n",
        "### ✅ When Stemming is Used\n",
        "\n",
        "* **Information retrieval (Search engines):** To match queries like `\"run\"` with `\"running\"` or `\"runner\"`.\n",
        "* **Quick text normalization:** In early ML models where perfect grammar isn't needed.\n",
        "* **Resource-constrained environments:** Where speed > accuracy (e.g., embedded NLP).\n",
        "\n",
        "### ✅ When Lemmatization is Used:\n",
        "\n",
        "* **Chatbots and QA systems:** Need accurate understanding of user input.\n",
        "* **Semantic search engines:** Better query-document matching.\n",
        "* **Text classification & topic modeling:** Ensures distinct words like \"study\", \"studying\", \"studies\" are treated as the same concept.\n",
        "* **Named entity recognition & parsing:** For grammatical correctness.\n",
        "\n",
        "---\n",
        "\n",
        "## ✅ Advantages and Disadvantages\n",
        "\n",
        "### 📌 Stemming\n",
        "\n",
        "**Advantages:**\n",
        "\n",
        "* ✅ Very fast and simple\n",
        "* ✅ Reduces vocabulary size\n",
        "* ✅ No need for POS tagging or dictionaries\n",
        "\n",
        "**Disadvantages:**\n",
        "\n",
        "* ❌ Can result in **non-words** (\"comput\" for \"computer\")\n",
        "* ❌ Over-stemming (e.g., \"universe\" and \"university\" → same stem)\n",
        "* ❌ Under-stemming (e.g., \"data\" and \"datum\" remain different)\n",
        "* ❌ No grammatical correctness\n",
        "\n",
        "---\n",
        "\n",
        "### 📌 Lemmatization\n",
        "\n",
        "**Advantages:**\n",
        "\n",
        "* ✅ Produces **real, meaningful words**\n",
        "* ✅ More accurate word normalization\n",
        "* ✅ Handles **irregular words** (e.g., \"was\" → \"be\")\n",
        "\n",
        "**Disadvantages:**\n",
        "\n",
        "* ❌ Slower due to POS tagging and dictionary lookups\n",
        "* ❌ Requires linguistic resources (WordNet, SpaCy models)\n",
        "* ❌ May not work well for domain-specific terms (e.g., medical, legal)\n",
        "\n",
        "---\n",
        "\n",
        "## 💣 Where They Fail in Industry\n",
        "\n",
        "### ❌ Stemming Fails:\n",
        "\n",
        "* When user experience or **semantic accuracy matters**\n",
        "\n",
        "  * E.g., search result: stemming “organization” and “organ” to same root → irrelevant results.\n",
        "* In **name matching** or sensitive applications (e.g., legal doc analysis)\n",
        "\n",
        "### ❌ Lemmatization Fails:\n",
        "\n",
        "* On **poorly spelled or noisy text**\n",
        "* In **domain-specific language** without domain-specific lemmatizers\n",
        "\n",
        "  * E.g., \"diagnosed\", \"antihypertensives\" may not lemmatize well in medical NLP\n",
        "* **Language ambiguity without context**:\n",
        "\n",
        "  * \"Saw\" (noun or verb?) – needs good POS tagging.\n",
        "\n",
        "\n",
        "---\n",
        "\n",
        "## 💬 Common Interview Questions\n",
        "\n",
        "### 🔸 Q1: What is the difference between stemming and lemmatization?\n",
        "\n",
        "**A:** Stemming is a crude way of chopping words, while lemmatization uses linguistic analysis to find the correct dictionary root.\n",
        "\n",
        "---\n",
        "\n",
        "### 🔸 Q2: Why would you choose lemmatization over stemming?\n",
        "\n",
        "**A:** When correctness and context matter — e.g., for chatbot understanding, semantic analysis, or grammar-sensitive tasks.\n",
        "\n",
        "---\n",
        "\n",
        "### 🔸 Q3: Can lemmatization reduce vocabulary size better than stemming?\n",
        "\n",
        "**A:** Not necessarily. Stemming often reduces vocabulary more (by over-stemming), but lemmatization does so more **meaningfully**.\n",
        "\n",
        "---\n",
        "\n",
        "### 🔸 Q4: What are the drawbacks of stemming in industry systems?\n",
        "\n",
        "**A:** It can lead to poor search accuracy, strange word forms, and loss of semantic meaning due to aggressive truncation.\n",
        "\n",
        "---\n",
        "\n",
        "### 🔸 Q5: Can stemming or lemmatization handle slang, abbreviations, or typos?\n",
        "\n",
        "**A:** No. For that, you need **text normalization, spell correction**, or **language models** like BERT.\n",
        "\n",
        "---\n",
        "\n",
        "## 🧠 Summary\n",
        "\n",
        "| Task Type                   | Stemming | Lemmatization         |\n",
        "| --------------------------- | -------- | --------------------- |\n",
        "| Quick search                | ✅ Yes    | ⚠️ Slower             |\n",
        "| Chatbot understanding       | ❌ No     | ✅ Yes                 |\n",
        "| Domain-specific text        | ⚠️ Weak  | ⚠️ Needs domain tools |\n",
        "| Precision & correctness     | ❌ Weak   | ✅ Strong              |\n",
        "| Speed-critical applications | ✅ Fast   | ❌ Slower              |\n",
        "\n"
      ],
      "metadata": {
        "id": "a-GQxjjNybOD"
      }
    },
    {
      "cell_type": "code",
      "source": [
        "vectorizer = CountVectorizer()\n",
        "bow_matrix = vectorizer.fit_transform(cleaned_texts)"
      ],
      "metadata": {
        "id": "dLfzKLUSpidD"
      },
      "execution_count": null,
      "outputs": []
    },
    {
      "cell_type": "code",
      "source": [
        "cleaned_texts"
      ],
      "metadata": {
        "colab": {
          "base_uri": "https://localhost:8080/"
        },
        "id": "CxycDe_4przw",
        "outputId": "36287138-322b-4b1b-bcc3-f4d31e0fd4f5"
      },
      "execution_count": null,
      "outputs": [
        {
          "output_type": "execute_result",
          "data": {
            "text/plain": [
              "['machine learning rock revolutionize world beyond visit site info',\n",
              " 'awesome collect data point',\n",
              " 'softbank google major player',\n",
              " 'predictive analytic use machine learn solve business problem']"
            ]
          },
          "metadata": {},
          "execution_count": 59
        }
      ]
    },
    {
      "cell_type": "code",
      "source": [
        "bow_matrix.toarray()"
      ],
      "metadata": {
        "colab": {
          "base_uri": "https://localhost:8080/"
        },
        "id": "7uLvrjMiptBF",
        "outputId": "c4015c66-617b-43fd-9cdf-6eec09e64e62"
      },
      "execution_count": null,
      "outputs": [
        {
          "output_type": "execute_result",
          "data": {
            "text/plain": [
              "array([[0, 0, 1, 0, 0, 0, 0, 1, 0, 1, 1, 0, 0, 0, 0, 0, 1, 1, 1, 0, 0, 0,\n",
              "        1, 1],\n",
              "       [0, 1, 0, 0, 1, 1, 0, 0, 0, 0, 0, 0, 0, 1, 0, 0, 0, 0, 0, 0, 0, 0,\n",
              "        0, 0],\n",
              "       [0, 0, 0, 0, 0, 0, 1, 0, 0, 0, 0, 1, 1, 0, 0, 0, 0, 0, 0, 1, 0, 0,\n",
              "        0, 0],\n",
              "       [1, 0, 0, 1, 0, 0, 0, 0, 1, 0, 1, 0, 0, 0, 1, 1, 0, 0, 0, 0, 1, 1,\n",
              "        0, 0]])"
            ]
          },
          "metadata": {},
          "execution_count": 61
        }
      ]
    },
    {
      "cell_type": "code",
      "source": [
        "I love india\n",
        "I love ML\n",
        "\n",
        "I love india ML\n",
        "1  1.   1.    0\n",
        "1  1.   0.    1"
      ],
      "metadata": {
        "id": "c1dxLKftp6CN"
      },
      "execution_count": null,
      "outputs": []
    },
    {
      "cell_type": "code",
      "source": [
        "vectorizer.get_feature_names_out()"
      ],
      "metadata": {
        "colab": {
          "base_uri": "https://localhost:8080/"
        },
        "id": "Jj_09ddpqX-Z",
        "outputId": "694be182-9c0d-4bce-e3d3-7c460f47d237"
      },
      "execution_count": null,
      "outputs": [
        {
          "output_type": "execute_result",
          "data": {
            "text/plain": [
              "array(['analytic', 'awesome', 'beyond', 'business', 'collect', 'data',\n",
              "       'google', 'info', 'learn', 'learning', 'machine', 'major',\n",
              "       'player', 'point', 'predictive', 'problem', 'revolutionize',\n",
              "       'rock', 'site', 'softbank', 'solve', 'use', 'visit', 'world'],\n",
              "      dtype=object)"
            ]
          },
          "metadata": {},
          "execution_count": 62
        }
      ]
    },
    {
      "cell_type": "code",
      "source": [
        "feature_names =vectorizer.get_feature_names_out()\n",
        "bow_values = bow_matrix.toarray()"
      ],
      "metadata": {
        "id": "9-khzfEkqYTy"
      },
      "execution_count": null,
      "outputs": []
    },
    {
      "cell_type": "code",
      "source": [
        "bow_df = pd.DataFrame(bow_values, columns=feature_names)\n"
      ],
      "metadata": {
        "id": "LSuva-bzqgHi"
      },
      "execution_count": null,
      "outputs": []
    },
    {
      "cell_type": "code",
      "source": [
        "bow_df"
      ],
      "metadata": {
        "colab": {
          "base_uri": "https://localhost:8080/",
          "height": 224
        },
        "id": "EsqnZ9x8qmSu",
        "outputId": "07348a8c-2ad1-48a1-8acb-2908cf6c938e"
      },
      "execution_count": null,
      "outputs": [
        {
          "output_type": "execute_result",
          "data": {
            "text/plain": [
              "   analytic  awesome  beyond  business  collect  data  google  info  learn  \\\n",
              "0         0        0       1         0        0     0       0     1      0   \n",
              "1         0        1       0         0        1     1       0     0      0   \n",
              "2         0        0       0         0        0     0       1     0      0   \n",
              "3         1        0       0         1        0     0       0     0      1   \n",
              "\n",
              "   learning  ...  predictive  problem  revolutionize  rock  site  softbank  \\\n",
              "0         1  ...           0        0              1     1     1         0   \n",
              "1         0  ...           0        0              0     0     0         0   \n",
              "2         0  ...           0        0              0     0     0         1   \n",
              "3         0  ...           1        1              0     0     0         0   \n",
              "\n",
              "   solve  use  visit  world  \n",
              "0      0    0      1      1  \n",
              "1      0    0      0      0  \n",
              "2      0    0      0      0  \n",
              "3      1    1      0      0  \n",
              "\n",
              "[4 rows x 24 columns]"
            ],
            "text/html": [
              "\n",
              "  <div id=\"df-40a10017-3372-4329-8415-0d69d95442d3\" class=\"colab-df-container\">\n",
              "    <div>\n",
              "<style scoped>\n",
              "    .dataframe tbody tr th:only-of-type {\n",
              "        vertical-align: middle;\n",
              "    }\n",
              "\n",
              "    .dataframe tbody tr th {\n",
              "        vertical-align: top;\n",
              "    }\n",
              "\n",
              "    .dataframe thead th {\n",
              "        text-align: right;\n",
              "    }\n",
              "</style>\n",
              "<table border=\"1\" class=\"dataframe\">\n",
              "  <thead>\n",
              "    <tr style=\"text-align: right;\">\n",
              "      <th></th>\n",
              "      <th>analytic</th>\n",
              "      <th>awesome</th>\n",
              "      <th>beyond</th>\n",
              "      <th>business</th>\n",
              "      <th>collect</th>\n",
              "      <th>data</th>\n",
              "      <th>google</th>\n",
              "      <th>info</th>\n",
              "      <th>learn</th>\n",
              "      <th>learning</th>\n",
              "      <th>...</th>\n",
              "      <th>predictive</th>\n",
              "      <th>problem</th>\n",
              "      <th>revolutionize</th>\n",
              "      <th>rock</th>\n",
              "      <th>site</th>\n",
              "      <th>softbank</th>\n",
              "      <th>solve</th>\n",
              "      <th>use</th>\n",
              "      <th>visit</th>\n",
              "      <th>world</th>\n",
              "    </tr>\n",
              "  </thead>\n",
              "  <tbody>\n",
              "    <tr>\n",
              "      <th>0</th>\n",
              "      <td>0</td>\n",
              "      <td>0</td>\n",
              "      <td>1</td>\n",
              "      <td>0</td>\n",
              "      <td>0</td>\n",
              "      <td>0</td>\n",
              "      <td>0</td>\n",
              "      <td>1</td>\n",
              "      <td>0</td>\n",
              "      <td>1</td>\n",
              "      <td>...</td>\n",
              "      <td>0</td>\n",
              "      <td>0</td>\n",
              "      <td>1</td>\n",
              "      <td>1</td>\n",
              "      <td>1</td>\n",
              "      <td>0</td>\n",
              "      <td>0</td>\n",
              "      <td>0</td>\n",
              "      <td>1</td>\n",
              "      <td>1</td>\n",
              "    </tr>\n",
              "    <tr>\n",
              "      <th>1</th>\n",
              "      <td>0</td>\n",
              "      <td>1</td>\n",
              "      <td>0</td>\n",
              "      <td>0</td>\n",
              "      <td>1</td>\n",
              "      <td>1</td>\n",
              "      <td>0</td>\n",
              "      <td>0</td>\n",
              "      <td>0</td>\n",
              "      <td>0</td>\n",
              "      <td>...</td>\n",
              "      <td>0</td>\n",
              "      <td>0</td>\n",
              "      <td>0</td>\n",
              "      <td>0</td>\n",
              "      <td>0</td>\n",
              "      <td>0</td>\n",
              "      <td>0</td>\n",
              "      <td>0</td>\n",
              "      <td>0</td>\n",
              "      <td>0</td>\n",
              "    </tr>\n",
              "    <tr>\n",
              "      <th>2</th>\n",
              "      <td>0</td>\n",
              "      <td>0</td>\n",
              "      <td>0</td>\n",
              "      <td>0</td>\n",
              "      <td>0</td>\n",
              "      <td>0</td>\n",
              "      <td>1</td>\n",
              "      <td>0</td>\n",
              "      <td>0</td>\n",
              "      <td>0</td>\n",
              "      <td>...</td>\n",
              "      <td>0</td>\n",
              "      <td>0</td>\n",
              "      <td>0</td>\n",
              "      <td>0</td>\n",
              "      <td>0</td>\n",
              "      <td>1</td>\n",
              "      <td>0</td>\n",
              "      <td>0</td>\n",
              "      <td>0</td>\n",
              "      <td>0</td>\n",
              "    </tr>\n",
              "    <tr>\n",
              "      <th>3</th>\n",
              "      <td>1</td>\n",
              "      <td>0</td>\n",
              "      <td>0</td>\n",
              "      <td>1</td>\n",
              "      <td>0</td>\n",
              "      <td>0</td>\n",
              "      <td>0</td>\n",
              "      <td>0</td>\n",
              "      <td>1</td>\n",
              "      <td>0</td>\n",
              "      <td>...</td>\n",
              "      <td>1</td>\n",
              "      <td>1</td>\n",
              "      <td>0</td>\n",
              "      <td>0</td>\n",
              "      <td>0</td>\n",
              "      <td>0</td>\n",
              "      <td>1</td>\n",
              "      <td>1</td>\n",
              "      <td>0</td>\n",
              "      <td>0</td>\n",
              "    </tr>\n",
              "  </tbody>\n",
              "</table>\n",
              "<p>4 rows × 24 columns</p>\n",
              "</div>\n",
              "    <div class=\"colab-df-buttons\">\n",
              "\n",
              "  <div class=\"colab-df-container\">\n",
              "    <button class=\"colab-df-convert\" onclick=\"convertToInteractive('df-40a10017-3372-4329-8415-0d69d95442d3')\"\n",
              "            title=\"Convert this dataframe to an interactive table.\"\n",
              "            style=\"display:none;\">\n",
              "\n",
              "  <svg xmlns=\"http://www.w3.org/2000/svg\" height=\"24px\" viewBox=\"0 -960 960 960\">\n",
              "    <path d=\"M120-120v-720h720v720H120Zm60-500h600v-160H180v160Zm220 220h160v-160H400v160Zm0 220h160v-160H400v160ZM180-400h160v-160H180v160Zm440 0h160v-160H620v160ZM180-180h160v-160H180v160Zm440 0h160v-160H620v160Z\"/>\n",
              "  </svg>\n",
              "    </button>\n",
              "\n",
              "  <style>\n",
              "    .colab-df-container {\n",
              "      display:flex;\n",
              "      gap: 12px;\n",
              "    }\n",
              "\n",
              "    .colab-df-convert {\n",
              "      background-color: #E8F0FE;\n",
              "      border: none;\n",
              "      border-radius: 50%;\n",
              "      cursor: pointer;\n",
              "      display: none;\n",
              "      fill: #1967D2;\n",
              "      height: 32px;\n",
              "      padding: 0 0 0 0;\n",
              "      width: 32px;\n",
              "    }\n",
              "\n",
              "    .colab-df-convert:hover {\n",
              "      background-color: #E2EBFA;\n",
              "      box-shadow: 0px 1px 2px rgba(60, 64, 67, 0.3), 0px 1px 3px 1px rgba(60, 64, 67, 0.15);\n",
              "      fill: #174EA6;\n",
              "    }\n",
              "\n",
              "    .colab-df-buttons div {\n",
              "      margin-bottom: 4px;\n",
              "    }\n",
              "\n",
              "    [theme=dark] .colab-df-convert {\n",
              "      background-color: #3B4455;\n",
              "      fill: #D2E3FC;\n",
              "    }\n",
              "\n",
              "    [theme=dark] .colab-df-convert:hover {\n",
              "      background-color: #434B5C;\n",
              "      box-shadow: 0px 1px 3px 1px rgba(0, 0, 0, 0.15);\n",
              "      filter: drop-shadow(0px 1px 2px rgba(0, 0, 0, 0.3));\n",
              "      fill: #FFFFFF;\n",
              "    }\n",
              "  </style>\n",
              "\n",
              "    <script>\n",
              "      const buttonEl =\n",
              "        document.querySelector('#df-40a10017-3372-4329-8415-0d69d95442d3 button.colab-df-convert');\n",
              "      buttonEl.style.display =\n",
              "        google.colab.kernel.accessAllowed ? 'block' : 'none';\n",
              "\n",
              "      async function convertToInteractive(key) {\n",
              "        const element = document.querySelector('#df-40a10017-3372-4329-8415-0d69d95442d3');\n",
              "        const dataTable =\n",
              "          await google.colab.kernel.invokeFunction('convertToInteractive',\n",
              "                                                    [key], {});\n",
              "        if (!dataTable) return;\n",
              "\n",
              "        const docLinkHtml = 'Like what you see? Visit the ' +\n",
              "          '<a target=\"_blank\" href=https://colab.research.google.com/notebooks/data_table.ipynb>data table notebook</a>'\n",
              "          + ' to learn more about interactive tables.';\n",
              "        element.innerHTML = '';\n",
              "        dataTable['output_type'] = 'display_data';\n",
              "        await google.colab.output.renderOutput(dataTable, element);\n",
              "        const docLink = document.createElement('div');\n",
              "        docLink.innerHTML = docLinkHtml;\n",
              "        element.appendChild(docLink);\n",
              "      }\n",
              "    </script>\n",
              "  </div>\n",
              "\n",
              "\n",
              "    <div id=\"df-87cebcee-f41b-41e0-bfbf-c59ed556767e\">\n",
              "      <button class=\"colab-df-quickchart\" onclick=\"quickchart('df-87cebcee-f41b-41e0-bfbf-c59ed556767e')\"\n",
              "                title=\"Suggest charts\"\n",
              "                style=\"display:none;\">\n",
              "\n",
              "<svg xmlns=\"http://www.w3.org/2000/svg\" height=\"24px\"viewBox=\"0 0 24 24\"\n",
              "     width=\"24px\">\n",
              "    <g>\n",
              "        <path d=\"M19 3H5c-1.1 0-2 .9-2 2v14c0 1.1.9 2 2 2h14c1.1 0 2-.9 2-2V5c0-1.1-.9-2-2-2zM9 17H7v-7h2v7zm4 0h-2V7h2v10zm4 0h-2v-4h2v4z\"/>\n",
              "    </g>\n",
              "</svg>\n",
              "      </button>\n",
              "\n",
              "<style>\n",
              "  .colab-df-quickchart {\n",
              "      --bg-color: #E8F0FE;\n",
              "      --fill-color: #1967D2;\n",
              "      --hover-bg-color: #E2EBFA;\n",
              "      --hover-fill-color: #174EA6;\n",
              "      --disabled-fill-color: #AAA;\n",
              "      --disabled-bg-color: #DDD;\n",
              "  }\n",
              "\n",
              "  [theme=dark] .colab-df-quickchart {\n",
              "      --bg-color: #3B4455;\n",
              "      --fill-color: #D2E3FC;\n",
              "      --hover-bg-color: #434B5C;\n",
              "      --hover-fill-color: #FFFFFF;\n",
              "      --disabled-bg-color: #3B4455;\n",
              "      --disabled-fill-color: #666;\n",
              "  }\n",
              "\n",
              "  .colab-df-quickchart {\n",
              "    background-color: var(--bg-color);\n",
              "    border: none;\n",
              "    border-radius: 50%;\n",
              "    cursor: pointer;\n",
              "    display: none;\n",
              "    fill: var(--fill-color);\n",
              "    height: 32px;\n",
              "    padding: 0;\n",
              "    width: 32px;\n",
              "  }\n",
              "\n",
              "  .colab-df-quickchart:hover {\n",
              "    background-color: var(--hover-bg-color);\n",
              "    box-shadow: 0 1px 2px rgba(60, 64, 67, 0.3), 0 1px 3px 1px rgba(60, 64, 67, 0.15);\n",
              "    fill: var(--button-hover-fill-color);\n",
              "  }\n",
              "\n",
              "  .colab-df-quickchart-complete:disabled,\n",
              "  .colab-df-quickchart-complete:disabled:hover {\n",
              "    background-color: var(--disabled-bg-color);\n",
              "    fill: var(--disabled-fill-color);\n",
              "    box-shadow: none;\n",
              "  }\n",
              "\n",
              "  .colab-df-spinner {\n",
              "    border: 2px solid var(--fill-color);\n",
              "    border-color: transparent;\n",
              "    border-bottom-color: var(--fill-color);\n",
              "    animation:\n",
              "      spin 1s steps(1) infinite;\n",
              "  }\n",
              "\n",
              "  @keyframes spin {\n",
              "    0% {\n",
              "      border-color: transparent;\n",
              "      border-bottom-color: var(--fill-color);\n",
              "      border-left-color: var(--fill-color);\n",
              "    }\n",
              "    20% {\n",
              "      border-color: transparent;\n",
              "      border-left-color: var(--fill-color);\n",
              "      border-top-color: var(--fill-color);\n",
              "    }\n",
              "    30% {\n",
              "      border-color: transparent;\n",
              "      border-left-color: var(--fill-color);\n",
              "      border-top-color: var(--fill-color);\n",
              "      border-right-color: var(--fill-color);\n",
              "    }\n",
              "    40% {\n",
              "      border-color: transparent;\n",
              "      border-right-color: var(--fill-color);\n",
              "      border-top-color: var(--fill-color);\n",
              "    }\n",
              "    60% {\n",
              "      border-color: transparent;\n",
              "      border-right-color: var(--fill-color);\n",
              "    }\n",
              "    80% {\n",
              "      border-color: transparent;\n",
              "      border-right-color: var(--fill-color);\n",
              "      border-bottom-color: var(--fill-color);\n",
              "    }\n",
              "    90% {\n",
              "      border-color: transparent;\n",
              "      border-bottom-color: var(--fill-color);\n",
              "    }\n",
              "  }\n",
              "</style>\n",
              "\n",
              "      <script>\n",
              "        async function quickchart(key) {\n",
              "          const quickchartButtonEl =\n",
              "            document.querySelector('#' + key + ' button');\n",
              "          quickchartButtonEl.disabled = true;  // To prevent multiple clicks.\n",
              "          quickchartButtonEl.classList.add('colab-df-spinner');\n",
              "          try {\n",
              "            const charts = await google.colab.kernel.invokeFunction(\n",
              "                'suggestCharts', [key], {});\n",
              "          } catch (error) {\n",
              "            console.error('Error during call to suggestCharts:', error);\n",
              "          }\n",
              "          quickchartButtonEl.classList.remove('colab-df-spinner');\n",
              "          quickchartButtonEl.classList.add('colab-df-quickchart-complete');\n",
              "        }\n",
              "        (() => {\n",
              "          let quickchartButtonEl =\n",
              "            document.querySelector('#df-87cebcee-f41b-41e0-bfbf-c59ed556767e button');\n",
              "          quickchartButtonEl.style.display =\n",
              "            google.colab.kernel.accessAllowed ? 'block' : 'none';\n",
              "        })();\n",
              "      </script>\n",
              "    </div>\n",
              "\n",
              "  <div id=\"id_776d4e56-056f-442f-b0b9-d3d55044f0d5\">\n",
              "    <style>\n",
              "      .colab-df-generate {\n",
              "        background-color: #E8F0FE;\n",
              "        border: none;\n",
              "        border-radius: 50%;\n",
              "        cursor: pointer;\n",
              "        display: none;\n",
              "        fill: #1967D2;\n",
              "        height: 32px;\n",
              "        padding: 0 0 0 0;\n",
              "        width: 32px;\n",
              "      }\n",
              "\n",
              "      .colab-df-generate:hover {\n",
              "        background-color: #E2EBFA;\n",
              "        box-shadow: 0px 1px 2px rgba(60, 64, 67, 0.3), 0px 1px 3px 1px rgba(60, 64, 67, 0.15);\n",
              "        fill: #174EA6;\n",
              "      }\n",
              "\n",
              "      [theme=dark] .colab-df-generate {\n",
              "        background-color: #3B4455;\n",
              "        fill: #D2E3FC;\n",
              "      }\n",
              "\n",
              "      [theme=dark] .colab-df-generate:hover {\n",
              "        background-color: #434B5C;\n",
              "        box-shadow: 0px 1px 3px 1px rgba(0, 0, 0, 0.15);\n",
              "        filter: drop-shadow(0px 1px 2px rgba(0, 0, 0, 0.3));\n",
              "        fill: #FFFFFF;\n",
              "      }\n",
              "    </style>\n",
              "    <button class=\"colab-df-generate\" onclick=\"generateWithVariable('bow_df')\"\n",
              "            title=\"Generate code using this dataframe.\"\n",
              "            style=\"display:none;\">\n",
              "\n",
              "  <svg xmlns=\"http://www.w3.org/2000/svg\" height=\"24px\"viewBox=\"0 0 24 24\"\n",
              "       width=\"24px\">\n",
              "    <path d=\"M7,19H8.4L18.45,9,17,7.55,7,17.6ZM5,21V16.75L18.45,3.32a2,2,0,0,1,2.83,0l1.4,1.43a1.91,1.91,0,0,1,.58,1.4,1.91,1.91,0,0,1-.58,1.4L9.25,21ZM18.45,9,17,7.55Zm-12,3A5.31,5.31,0,0,0,4.9,8.1,5.31,5.31,0,0,0,1,6.5,5.31,5.31,0,0,0,4.9,4.9,5.31,5.31,0,0,0,6.5,1,5.31,5.31,0,0,0,8.1,4.9,5.31,5.31,0,0,0,12,6.5,5.46,5.46,0,0,0,6.5,12Z\"/>\n",
              "  </svg>\n",
              "    </button>\n",
              "    <script>\n",
              "      (() => {\n",
              "      const buttonEl =\n",
              "        document.querySelector('#id_776d4e56-056f-442f-b0b9-d3d55044f0d5 button.colab-df-generate');\n",
              "      buttonEl.style.display =\n",
              "        google.colab.kernel.accessAllowed ? 'block' : 'none';\n",
              "\n",
              "      buttonEl.onclick = () => {\n",
              "        google.colab.notebook.generateWithVariable('bow_df');\n",
              "      }\n",
              "      })();\n",
              "    </script>\n",
              "  </div>\n",
              "\n",
              "    </div>\n",
              "  </div>\n"
            ],
            "application/vnd.google.colaboratory.intrinsic+json": {
              "type": "dataframe",
              "variable_name": "bow_df"
            }
          },
          "metadata": {},
          "execution_count": 65
        }
      ]
    },
    {
      "cell_type": "code",
      "source": [
        "tfidf_vectorizer = TfidfVectorizer()\n",
        "tfidf_matrix = tfidf_vectorizer.fit_transform(cleaned_texts)\n"
      ],
      "metadata": {
        "id": "5fi-fQGdqpjK"
      },
      "execution_count": null,
      "outputs": []
    },
    {
      "cell_type": "code",
      "source": [
        "feature_names = tfidf_vectorizer.get_feature_names_out()\n",
        "tfidf_values = tfidf_matrix.toarray()\n",
        "# Create a DataFrame\n",
        "tfidf_df = pd.DataFrame(tfidf_values, columns=feature_names)"
      ],
      "metadata": {
        "id": "DJ0FdNRNq4xo"
      },
      "execution_count": null,
      "outputs": []
    },
    {
      "cell_type": "code",
      "source": [
        "# i love analytics and analytic\n",
        "\n",
        "i love analytics and\n",
        "\n",
        "i love analytic and analytic"
      ],
      "metadata": {
        "id": "CUHQ_yvPx-ab"
      },
      "execution_count": null,
      "outputs": []
    },
    {
      "cell_type": "code",
      "source": [
        "tfidf_df"
      ],
      "metadata": {
        "colab": {
          "base_uri": "https://localhost:8080/",
          "height": 224
        },
        "id": "SO-X9o98q-cJ",
        "outputId": "1151de98-8b0e-4b89-e223-09e568584a2d"
      },
      "execution_count": null,
      "outputs": [
        {
          "output_type": "execute_result",
          "data": {
            "text/plain": [
              "   analytic  awesome   beyond  business  collect  data  google     info  \\\n",
              "0  0.000000      0.0  0.34057  0.000000      0.0   0.0     0.0  0.34057   \n",
              "1  0.000000      0.5  0.00000  0.000000      0.5   0.5     0.0  0.00000   \n",
              "2  0.000000      0.0  0.00000  0.000000      0.0   0.0     0.5  0.00000   \n",
              "3  0.362224      0.0  0.00000  0.362224      0.0   0.0     0.0  0.00000   \n",
              "\n",
              "      learn  learning  ...  predictive   problem  revolutionize     rock  \\\n",
              "0  0.000000   0.34057  ...    0.000000  0.000000        0.34057  0.34057   \n",
              "1  0.000000   0.00000  ...    0.000000  0.000000        0.00000  0.00000   \n",
              "2  0.000000   0.00000  ...    0.000000  0.000000        0.00000  0.00000   \n",
              "3  0.362224   0.00000  ...    0.362224  0.362224        0.00000  0.00000   \n",
              "\n",
              "      site  softbank     solve       use    visit    world  \n",
              "0  0.34057       0.0  0.000000  0.000000  0.34057  0.34057  \n",
              "1  0.00000       0.0  0.000000  0.000000  0.00000  0.00000  \n",
              "2  0.00000       0.5  0.000000  0.000000  0.00000  0.00000  \n",
              "3  0.00000       0.0  0.362224  0.362224  0.00000  0.00000  \n",
              "\n",
              "[4 rows x 24 columns]"
            ],
            "text/html": [
              "\n",
              "  <div id=\"df-36bdfa62-47d8-40c6-97fe-333194295eb7\" class=\"colab-df-container\">\n",
              "    <div>\n",
              "<style scoped>\n",
              "    .dataframe tbody tr th:only-of-type {\n",
              "        vertical-align: middle;\n",
              "    }\n",
              "\n",
              "    .dataframe tbody tr th {\n",
              "        vertical-align: top;\n",
              "    }\n",
              "\n",
              "    .dataframe thead th {\n",
              "        text-align: right;\n",
              "    }\n",
              "</style>\n",
              "<table border=\"1\" class=\"dataframe\">\n",
              "  <thead>\n",
              "    <tr style=\"text-align: right;\">\n",
              "      <th></th>\n",
              "      <th>analytic</th>\n",
              "      <th>awesome</th>\n",
              "      <th>beyond</th>\n",
              "      <th>business</th>\n",
              "      <th>collect</th>\n",
              "      <th>data</th>\n",
              "      <th>google</th>\n",
              "      <th>info</th>\n",
              "      <th>learn</th>\n",
              "      <th>learning</th>\n",
              "      <th>...</th>\n",
              "      <th>predictive</th>\n",
              "      <th>problem</th>\n",
              "      <th>revolutionize</th>\n",
              "      <th>rock</th>\n",
              "      <th>site</th>\n",
              "      <th>softbank</th>\n",
              "      <th>solve</th>\n",
              "      <th>use</th>\n",
              "      <th>visit</th>\n",
              "      <th>world</th>\n",
              "    </tr>\n",
              "  </thead>\n",
              "  <tbody>\n",
              "    <tr>\n",
              "      <th>0</th>\n",
              "      <td>0.000000</td>\n",
              "      <td>0.0</td>\n",
              "      <td>0.34057</td>\n",
              "      <td>0.000000</td>\n",
              "      <td>0.0</td>\n",
              "      <td>0.0</td>\n",
              "      <td>0.0</td>\n",
              "      <td>0.34057</td>\n",
              "      <td>0.000000</td>\n",
              "      <td>0.34057</td>\n",
              "      <td>...</td>\n",
              "      <td>0.000000</td>\n",
              "      <td>0.000000</td>\n",
              "      <td>0.34057</td>\n",
              "      <td>0.34057</td>\n",
              "      <td>0.34057</td>\n",
              "      <td>0.0</td>\n",
              "      <td>0.000000</td>\n",
              "      <td>0.000000</td>\n",
              "      <td>0.34057</td>\n",
              "      <td>0.34057</td>\n",
              "    </tr>\n",
              "    <tr>\n",
              "      <th>1</th>\n",
              "      <td>0.000000</td>\n",
              "      <td>0.5</td>\n",
              "      <td>0.00000</td>\n",
              "      <td>0.000000</td>\n",
              "      <td>0.5</td>\n",
              "      <td>0.5</td>\n",
              "      <td>0.0</td>\n",
              "      <td>0.00000</td>\n",
              "      <td>0.000000</td>\n",
              "      <td>0.00000</td>\n",
              "      <td>...</td>\n",
              "      <td>0.000000</td>\n",
              "      <td>0.000000</td>\n",
              "      <td>0.00000</td>\n",
              "      <td>0.00000</td>\n",
              "      <td>0.00000</td>\n",
              "      <td>0.0</td>\n",
              "      <td>0.000000</td>\n",
              "      <td>0.000000</td>\n",
              "      <td>0.00000</td>\n",
              "      <td>0.00000</td>\n",
              "    </tr>\n",
              "    <tr>\n",
              "      <th>2</th>\n",
              "      <td>0.000000</td>\n",
              "      <td>0.0</td>\n",
              "      <td>0.00000</td>\n",
              "      <td>0.000000</td>\n",
              "      <td>0.0</td>\n",
              "      <td>0.0</td>\n",
              "      <td>0.5</td>\n",
              "      <td>0.00000</td>\n",
              "      <td>0.000000</td>\n",
              "      <td>0.00000</td>\n",
              "      <td>...</td>\n",
              "      <td>0.000000</td>\n",
              "      <td>0.000000</td>\n",
              "      <td>0.00000</td>\n",
              "      <td>0.00000</td>\n",
              "      <td>0.00000</td>\n",
              "      <td>0.5</td>\n",
              "      <td>0.000000</td>\n",
              "      <td>0.000000</td>\n",
              "      <td>0.00000</td>\n",
              "      <td>0.00000</td>\n",
              "    </tr>\n",
              "    <tr>\n",
              "      <th>3</th>\n",
              "      <td>0.362224</td>\n",
              "      <td>0.0</td>\n",
              "      <td>0.00000</td>\n",
              "      <td>0.362224</td>\n",
              "      <td>0.0</td>\n",
              "      <td>0.0</td>\n",
              "      <td>0.0</td>\n",
              "      <td>0.00000</td>\n",
              "      <td>0.362224</td>\n",
              "      <td>0.00000</td>\n",
              "      <td>...</td>\n",
              "      <td>0.362224</td>\n",
              "      <td>0.362224</td>\n",
              "      <td>0.00000</td>\n",
              "      <td>0.00000</td>\n",
              "      <td>0.00000</td>\n",
              "      <td>0.0</td>\n",
              "      <td>0.362224</td>\n",
              "      <td>0.362224</td>\n",
              "      <td>0.00000</td>\n",
              "      <td>0.00000</td>\n",
              "    </tr>\n",
              "  </tbody>\n",
              "</table>\n",
              "<p>4 rows × 24 columns</p>\n",
              "</div>\n",
              "    <div class=\"colab-df-buttons\">\n",
              "\n",
              "  <div class=\"colab-df-container\">\n",
              "    <button class=\"colab-df-convert\" onclick=\"convertToInteractive('df-36bdfa62-47d8-40c6-97fe-333194295eb7')\"\n",
              "            title=\"Convert this dataframe to an interactive table.\"\n",
              "            style=\"display:none;\">\n",
              "\n",
              "  <svg xmlns=\"http://www.w3.org/2000/svg\" height=\"24px\" viewBox=\"0 -960 960 960\">\n",
              "    <path d=\"M120-120v-720h720v720H120Zm60-500h600v-160H180v160Zm220 220h160v-160H400v160Zm0 220h160v-160H400v160ZM180-400h160v-160H180v160Zm440 0h160v-160H620v160ZM180-180h160v-160H180v160Zm440 0h160v-160H620v160Z\"/>\n",
              "  </svg>\n",
              "    </button>\n",
              "\n",
              "  <style>\n",
              "    .colab-df-container {\n",
              "      display:flex;\n",
              "      gap: 12px;\n",
              "    }\n",
              "\n",
              "    .colab-df-convert {\n",
              "      background-color: #E8F0FE;\n",
              "      border: none;\n",
              "      border-radius: 50%;\n",
              "      cursor: pointer;\n",
              "      display: none;\n",
              "      fill: #1967D2;\n",
              "      height: 32px;\n",
              "      padding: 0 0 0 0;\n",
              "      width: 32px;\n",
              "    }\n",
              "\n",
              "    .colab-df-convert:hover {\n",
              "      background-color: #E2EBFA;\n",
              "      box-shadow: 0px 1px 2px rgba(60, 64, 67, 0.3), 0px 1px 3px 1px rgba(60, 64, 67, 0.15);\n",
              "      fill: #174EA6;\n",
              "    }\n",
              "\n",
              "    .colab-df-buttons div {\n",
              "      margin-bottom: 4px;\n",
              "    }\n",
              "\n",
              "    [theme=dark] .colab-df-convert {\n",
              "      background-color: #3B4455;\n",
              "      fill: #D2E3FC;\n",
              "    }\n",
              "\n",
              "    [theme=dark] .colab-df-convert:hover {\n",
              "      background-color: #434B5C;\n",
              "      box-shadow: 0px 1px 3px 1px rgba(0, 0, 0, 0.15);\n",
              "      filter: drop-shadow(0px 1px 2px rgba(0, 0, 0, 0.3));\n",
              "      fill: #FFFFFF;\n",
              "    }\n",
              "  </style>\n",
              "\n",
              "    <script>\n",
              "      const buttonEl =\n",
              "        document.querySelector('#df-36bdfa62-47d8-40c6-97fe-333194295eb7 button.colab-df-convert');\n",
              "      buttonEl.style.display =\n",
              "        google.colab.kernel.accessAllowed ? 'block' : 'none';\n",
              "\n",
              "      async function convertToInteractive(key) {\n",
              "        const element = document.querySelector('#df-36bdfa62-47d8-40c6-97fe-333194295eb7');\n",
              "        const dataTable =\n",
              "          await google.colab.kernel.invokeFunction('convertToInteractive',\n",
              "                                                    [key], {});\n",
              "        if (!dataTable) return;\n",
              "\n",
              "        const docLinkHtml = 'Like what you see? Visit the ' +\n",
              "          '<a target=\"_blank\" href=https://colab.research.google.com/notebooks/data_table.ipynb>data table notebook</a>'\n",
              "          + ' to learn more about interactive tables.';\n",
              "        element.innerHTML = '';\n",
              "        dataTable['output_type'] = 'display_data';\n",
              "        await google.colab.output.renderOutput(dataTable, element);\n",
              "        const docLink = document.createElement('div');\n",
              "        docLink.innerHTML = docLinkHtml;\n",
              "        element.appendChild(docLink);\n",
              "      }\n",
              "    </script>\n",
              "  </div>\n",
              "\n",
              "\n",
              "    <div id=\"df-0efe64ec-79d1-4fd6-8f61-59d80e5ea4d0\">\n",
              "      <button class=\"colab-df-quickchart\" onclick=\"quickchart('df-0efe64ec-79d1-4fd6-8f61-59d80e5ea4d0')\"\n",
              "                title=\"Suggest charts\"\n",
              "                style=\"display:none;\">\n",
              "\n",
              "<svg xmlns=\"http://www.w3.org/2000/svg\" height=\"24px\"viewBox=\"0 0 24 24\"\n",
              "     width=\"24px\">\n",
              "    <g>\n",
              "        <path d=\"M19 3H5c-1.1 0-2 .9-2 2v14c0 1.1.9 2 2 2h14c1.1 0 2-.9 2-2V5c0-1.1-.9-2-2-2zM9 17H7v-7h2v7zm4 0h-2V7h2v10zm4 0h-2v-4h2v4z\"/>\n",
              "    </g>\n",
              "</svg>\n",
              "      </button>\n",
              "\n",
              "<style>\n",
              "  .colab-df-quickchart {\n",
              "      --bg-color: #E8F0FE;\n",
              "      --fill-color: #1967D2;\n",
              "      --hover-bg-color: #E2EBFA;\n",
              "      --hover-fill-color: #174EA6;\n",
              "      --disabled-fill-color: #AAA;\n",
              "      --disabled-bg-color: #DDD;\n",
              "  }\n",
              "\n",
              "  [theme=dark] .colab-df-quickchart {\n",
              "      --bg-color: #3B4455;\n",
              "      --fill-color: #D2E3FC;\n",
              "      --hover-bg-color: #434B5C;\n",
              "      --hover-fill-color: #FFFFFF;\n",
              "      --disabled-bg-color: #3B4455;\n",
              "      --disabled-fill-color: #666;\n",
              "  }\n",
              "\n",
              "  .colab-df-quickchart {\n",
              "    background-color: var(--bg-color);\n",
              "    border: none;\n",
              "    border-radius: 50%;\n",
              "    cursor: pointer;\n",
              "    display: none;\n",
              "    fill: var(--fill-color);\n",
              "    height: 32px;\n",
              "    padding: 0;\n",
              "    width: 32px;\n",
              "  }\n",
              "\n",
              "  .colab-df-quickchart:hover {\n",
              "    background-color: var(--hover-bg-color);\n",
              "    box-shadow: 0 1px 2px rgba(60, 64, 67, 0.3), 0 1px 3px 1px rgba(60, 64, 67, 0.15);\n",
              "    fill: var(--button-hover-fill-color);\n",
              "  }\n",
              "\n",
              "  .colab-df-quickchart-complete:disabled,\n",
              "  .colab-df-quickchart-complete:disabled:hover {\n",
              "    background-color: var(--disabled-bg-color);\n",
              "    fill: var(--disabled-fill-color);\n",
              "    box-shadow: none;\n",
              "  }\n",
              "\n",
              "  .colab-df-spinner {\n",
              "    border: 2px solid var(--fill-color);\n",
              "    border-color: transparent;\n",
              "    border-bottom-color: var(--fill-color);\n",
              "    animation:\n",
              "      spin 1s steps(1) infinite;\n",
              "  }\n",
              "\n",
              "  @keyframes spin {\n",
              "    0% {\n",
              "      border-color: transparent;\n",
              "      border-bottom-color: var(--fill-color);\n",
              "      border-left-color: var(--fill-color);\n",
              "    }\n",
              "    20% {\n",
              "      border-color: transparent;\n",
              "      border-left-color: var(--fill-color);\n",
              "      border-top-color: var(--fill-color);\n",
              "    }\n",
              "    30% {\n",
              "      border-color: transparent;\n",
              "      border-left-color: var(--fill-color);\n",
              "      border-top-color: var(--fill-color);\n",
              "      border-right-color: var(--fill-color);\n",
              "    }\n",
              "    40% {\n",
              "      border-color: transparent;\n",
              "      border-right-color: var(--fill-color);\n",
              "      border-top-color: var(--fill-color);\n",
              "    }\n",
              "    60% {\n",
              "      border-color: transparent;\n",
              "      border-right-color: var(--fill-color);\n",
              "    }\n",
              "    80% {\n",
              "      border-color: transparent;\n",
              "      border-right-color: var(--fill-color);\n",
              "      border-bottom-color: var(--fill-color);\n",
              "    }\n",
              "    90% {\n",
              "      border-color: transparent;\n",
              "      border-bottom-color: var(--fill-color);\n",
              "    }\n",
              "  }\n",
              "</style>\n",
              "\n",
              "      <script>\n",
              "        async function quickchart(key) {\n",
              "          const quickchartButtonEl =\n",
              "            document.querySelector('#' + key + ' button');\n",
              "          quickchartButtonEl.disabled = true;  // To prevent multiple clicks.\n",
              "          quickchartButtonEl.classList.add('colab-df-spinner');\n",
              "          try {\n",
              "            const charts = await google.colab.kernel.invokeFunction(\n",
              "                'suggestCharts', [key], {});\n",
              "          } catch (error) {\n",
              "            console.error('Error during call to suggestCharts:', error);\n",
              "          }\n",
              "          quickchartButtonEl.classList.remove('colab-df-spinner');\n",
              "          quickchartButtonEl.classList.add('colab-df-quickchart-complete');\n",
              "        }\n",
              "        (() => {\n",
              "          let quickchartButtonEl =\n",
              "            document.querySelector('#df-0efe64ec-79d1-4fd6-8f61-59d80e5ea4d0 button');\n",
              "          quickchartButtonEl.style.display =\n",
              "            google.colab.kernel.accessAllowed ? 'block' : 'none';\n",
              "        })();\n",
              "      </script>\n",
              "    </div>\n",
              "\n",
              "  <div id=\"id_a802e2e3-6b48-492c-b7f0-301fd3791c02\">\n",
              "    <style>\n",
              "      .colab-df-generate {\n",
              "        background-color: #E8F0FE;\n",
              "        border: none;\n",
              "        border-radius: 50%;\n",
              "        cursor: pointer;\n",
              "        display: none;\n",
              "        fill: #1967D2;\n",
              "        height: 32px;\n",
              "        padding: 0 0 0 0;\n",
              "        width: 32px;\n",
              "      }\n",
              "\n",
              "      .colab-df-generate:hover {\n",
              "        background-color: #E2EBFA;\n",
              "        box-shadow: 0px 1px 2px rgba(60, 64, 67, 0.3), 0px 1px 3px 1px rgba(60, 64, 67, 0.15);\n",
              "        fill: #174EA6;\n",
              "      }\n",
              "\n",
              "      [theme=dark] .colab-df-generate {\n",
              "        background-color: #3B4455;\n",
              "        fill: #D2E3FC;\n",
              "      }\n",
              "\n",
              "      [theme=dark] .colab-df-generate:hover {\n",
              "        background-color: #434B5C;\n",
              "        box-shadow: 0px 1px 3px 1px rgba(0, 0, 0, 0.15);\n",
              "        filter: drop-shadow(0px 1px 2px rgba(0, 0, 0, 0.3));\n",
              "        fill: #FFFFFF;\n",
              "      }\n",
              "    </style>\n",
              "    <button class=\"colab-df-generate\" onclick=\"generateWithVariable('tfidf_df')\"\n",
              "            title=\"Generate code using this dataframe.\"\n",
              "            style=\"display:none;\">\n",
              "\n",
              "  <svg xmlns=\"http://www.w3.org/2000/svg\" height=\"24px\"viewBox=\"0 0 24 24\"\n",
              "       width=\"24px\">\n",
              "    <path d=\"M7,19H8.4L18.45,9,17,7.55,7,17.6ZM5,21V16.75L18.45,3.32a2,2,0,0,1,2.83,0l1.4,1.43a1.91,1.91,0,0,1,.58,1.4,1.91,1.91,0,0,1-.58,1.4L9.25,21ZM18.45,9,17,7.55Zm-12,3A5.31,5.31,0,0,0,4.9,8.1,5.31,5.31,0,0,0,1,6.5,5.31,5.31,0,0,0,4.9,4.9,5.31,5.31,0,0,0,6.5,1,5.31,5.31,0,0,0,8.1,4.9,5.31,5.31,0,0,0,12,6.5,5.46,5.46,0,0,0,6.5,12Z\"/>\n",
              "  </svg>\n",
              "    </button>\n",
              "    <script>\n",
              "      (() => {\n",
              "      const buttonEl =\n",
              "        document.querySelector('#id_a802e2e3-6b48-492c-b7f0-301fd3791c02 button.colab-df-generate');\n",
              "      buttonEl.style.display =\n",
              "        google.colab.kernel.accessAllowed ? 'block' : 'none';\n",
              "\n",
              "      buttonEl.onclick = () => {\n",
              "        google.colab.notebook.generateWithVariable('tfidf_df');\n",
              "      }\n",
              "      })();\n",
              "    </script>\n",
              "  </div>\n",
              "\n",
              "    </div>\n",
              "  </div>\n"
            ],
            "application/vnd.google.colaboratory.intrinsic+json": {
              "type": "dataframe",
              "variable_name": "tfidf_df"
            }
          },
          "metadata": {},
          "execution_count": 68
        }
      ]
    },
    {
      "cell_type": "code",
      "source": [
        "for i, token in enumerate(spacy_doc_cleaned):\n",
        "    print(f\"{token.text}: {token.pos_} ({token.tag_})\")\n"
      ],
      "metadata": {
        "colab": {
          "base_uri": "https://localhost:8080/"
        },
        "id": "SihEeJpnrAN2",
        "outputId": "38701010-88ab-4f1d-8df1-35b39bb91876"
      },
      "execution_count": null,
      "outputs": [
        {
          "output_type": "stream",
          "name": "stdout",
          "text": [
            "machine: NOUN (NN)\n",
            "learning: NOUN (NN)\n",
            "ml: PROPN (NNP)\n",
            "is: AUX (VBZ)\n",
            "a: DET (DT)\n",
            "field: NOUN (NN)\n",
            "of: ADP (IN)\n",
            "study: NOUN (NN)\n",
            "in: ADP (IN)\n",
            "artificial: ADJ (JJ)\n",
            "intelligence: NOUN (NN)\n",
            "concerned: VERB (VBN)\n",
            "with: ADP (IN)\n",
            "the: DET (DT)\n",
            "development: NOUN (NN)\n",
            "of: ADP (IN)\n",
            "computer: NOUN (NN)\n",
            "algorithms: NOUN (NNS)\n",
            "that: PRON (WDT)\n",
            "can: AUX (MD)\n",
            "learn: VERB (VB)\n",
            "from: ADP (IN)\n",
            "and: CCONJ (CC)\n",
            "make: VERB (VB)\n",
            "predictions: NOUN (NNS)\n",
            "on: ADP (IN)\n",
            "data: NOUN (NNS)\n",
            "algorithms: NOUN (NNS)\n",
            "build: VERB (VB)\n",
            "a: DET (DT)\n",
            "mathematical: ADJ (JJ)\n",
            "model: NOUN (NN)\n",
            "based: VERB (VBN)\n",
            "on: ADP (IN)\n",
            "sample: NOUN (NN)\n",
            "data: NOUN (NNS)\n",
            "known: VERB (VBN)\n",
            "as: ADP (IN)\n",
            "training: VERB (VBG)\n",
            "data: NOUN (NNS)\n",
            "in: ADP (IN)\n",
            "order: NOUN (NN)\n",
            "to: PART (TO)\n",
            "make: VERB (VB)\n",
            "predictions: NOUN (NNS)\n",
            "or: CCONJ (CC)\n",
            "decisions: NOUN (NNS)\n",
            "without: ADP (IN)\n",
            "being: AUX (VBG)\n",
            "explicitly: ADV (RB)\n",
            "programmed: VERB (VBN)\n",
            "to: PART (TO)\n",
            "perform: VERB (VB)\n",
            "the: DET (DT)\n",
            "task: NOUN (NN)\n",
            "machine: NOUN (NN)\n",
            "learning: VERB (VBG)\n",
            "algorithms: NOUN (NNS)\n",
            "are: AUX (VBP)\n",
            "used: VERB (VBN)\n",
            "in: ADP (IN)\n",
            "a: DET (DT)\n",
            "wide: ADJ (JJ)\n",
            "variety: NOUN (NN)\n",
            "of: ADP (IN)\n",
            "applications: NOUN (NNS)\n",
            "such: ADJ (JJ)\n",
            "as: ADP (IN)\n",
            "email: NOUN (NN)\n",
            "filtering: NOUN (NN)\n",
            "and: CCONJ (CC)\n",
            "computer: NOUN (NN)\n",
            "vision: NOUN (NN)\n",
            "where: SCONJ (WRB)\n",
            "it: PRON (PRP)\n",
            "is: AUX (VBZ)\n",
            "difficult: ADJ (JJ)\n",
            "or: CCONJ (CC)\n",
            "infeasible: ADJ (JJ)\n",
            "to: PART (TO)\n",
            "develop: VERB (VB)\n",
            "conventional: ADJ (JJ)\n",
            "algorithms: NOUN (NNS)\n",
            "to: PART (TO)\n",
            "perform: VERB (VB)\n",
            "the: DET (DT)\n",
            "needed: VERB (VBN)\n",
            "tasks: NOUN (NNS)\n",
            "a: DET (DT)\n",
            "subset: NOUN (NN)\n",
            "of: ADP (IN)\n",
            "machine: NOUN (NN)\n",
            "learning: NOUN (NN)\n",
            "is: AUX (VBZ)\n",
            "closely: ADV (RB)\n",
            "related: ADJ (JJ)\n",
            "to: ADP (IN)\n",
            "computational: ADJ (JJ)\n",
            "statistics: NOUN (NNS)\n",
            "which: PRON (WDT)\n",
            "focuses: VERB (VBZ)\n",
            "on: ADP (IN)\n",
            "making: VERB (VBG)\n",
            "predictions: NOUN (NNS)\n",
            "using: VERB (VBG)\n",
            "computers: NOUN (NNS)\n",
            "mathematical: ADJ (JJ)\n",
            "optimization: NOUN (NN)\n",
            "delivers: VERB (VBZ)\n",
            "methods: NOUN (NNS)\n",
            "theory: NOUN (NN)\n",
            "and: CCONJ (CC)\n",
            "application: NOUN (NN)\n",
            "domains: NOUN (NNS)\n",
            "to: ADP (IN)\n",
            "the: DET (DT)\n",
            "field: NOUN (NN)\n",
            "of: ADP (IN)\n",
            "machine: NOUN (NN)\n",
            "learning: VERB (VBG)\n",
            "data: NOUN (NNS)\n",
            "mining: NOUN (NN)\n",
            "is: AUX (VBZ)\n",
            "a: DET (DT)\n",
            "related: ADJ (JJ)\n",
            "field: NOUN (NN)\n",
            "of: ADP (IN)\n",
            "study: NOUN (NN)\n",
            "focusing: VERB (VBG)\n",
            "on: ADP (IN)\n",
            "exploratory: ADJ (JJ)\n",
            "data: NOUN (NNS)\n",
            "analysis: NOUN (NN)\n",
            "through: ADP (IN)\n",
            "unsupervised: ADJ (JJ)\n",
            "learning: NOUN (NN)\n",
            "in: ADP (IN)\n",
            "its: PRON (PRP$)\n",
            "application: NOUN (NN)\n",
            "across: ADP (IN)\n",
            "business: NOUN (NN)\n",
            "problems: NOUN (NNS)\n",
            "machine: NOUN (NN)\n",
            "learning: NOUN (NN)\n",
            "is: AUX (VBZ)\n",
            "also: ADV (RB)\n",
            "referred: VERB (VBN)\n",
            "to: ADP (IN)\n",
            "as: SCONJ (IN)\n",
            "predictive: ADJ (JJ)\n",
            "analytics: NOUN (NNS)\n",
            "machine: NOUN (NN)\n",
            "learning: NOUN (NN)\n",
            "rocks: VERB (VBZ)\n",
            "its: PRON (PRP$)\n",
            "revolutionizing: VERB (VBG)\n",
            "the: DET (DT)\n",
            "world: NOUN (NN)\n",
            "in: ADP (IN)\n",
            "and: CCONJ (CC)\n",
            "beyond: AUX (IN)\n",
            "visit: VERB (VB)\n",
            "our: PRON (PRP$)\n",
            "site: NOUN (NN)\n",
            "for: ADP (IN)\n",
            "more: ADJ (JJR)\n",
            "info: NOUN (NN)\n",
            "this: PRON (DT)\n",
            "is: AUX (VBZ)\n",
            "awesome: ADJ (JJ)\n",
            "we: PRON (PRP)\n",
            "collected: VERB (VBD)\n",
            "data: NOUN (NN)\n",
            "points: NOUN (NNS)\n",
            "softbank: ADJ (JJ)\n",
            "and: CCONJ (CC)\n",
            "google: PROPN (NNP)\n",
            "are: AUX (VBP)\n",
            "major: ADJ (JJ)\n",
            "players: NOUN (NNS)\n"
          ]
        }
      ]
    },
    {
      "cell_type": "code",
      "source": [
        "spacy_doc_cleaned"
      ],
      "metadata": {
        "colab": {
          "base_uri": "https://localhost:8080/"
        },
        "id": "xTMDwRD3r4x7",
        "outputId": "d36bd8fb-4e98-44a4-d577-b06d760f84c6"
      },
      "execution_count": null,
      "outputs": [
        {
          "output_type": "execute_result",
          "data": {
            "text/plain": [
              "machine learning ml is a field of study in artificial intelligence concerned with the development of computer algorithms that can learn from and make predictions on data algorithms build a mathematical model based on sample data known as training data in order to make predictions or decisions without being explicitly programmed to perform the task machine learning algorithms are used in a wide variety of applications such as email filtering and computer vision where it is difficult or infeasible to develop conventional algorithms to perform the needed tasks a subset of machine learning is closely related to computational statistics which focuses on making predictions using computers mathematical optimization delivers methods theory and application domains to the field of machine learning data mining is a related field of study focusing on exploratory data analysis through unsupervised learning in its application across business problems machine learning is also referred to as predictive analytics machine learning rocks its revolutionizing the world in and beyond visit our site for more info this is awesome we collected data points softbank and google are major players"
            ]
          },
          "metadata": {},
          "execution_count": 69
        }
      ]
    },
    {
      "cell_type": "code",
      "source": [
        "for chunk in spacy_doc_cleaned.noun_chunks:\n",
        "  print(chunk.text)"
      ],
      "metadata": {
        "colab": {
          "base_uri": "https://localhost:8080/"
        },
        "id": "LdrgSP7Jr5GT",
        "outputId": "e1a68b09-5d1d-44fc-eaf8-e3b10c21deaa"
      },
      "execution_count": null,
      "outputs": [
        {
          "output_type": "stream",
          "name": "stdout",
          "text": [
            "machine learning ml\n",
            "a field\n",
            "study\n",
            "artificial intelligence\n",
            "the development\n",
            "computer algorithms\n",
            "that\n",
            "predictions\n",
            "data algorithms\n",
            "a mathematical model\n",
            "sample data\n",
            "data\n",
            "order\n",
            "predictions\n",
            "decisions\n",
            "the task machine learning algorithms\n",
            "a wide variety\n",
            "applications\n",
            "email filtering and computer vision\n",
            "it\n",
            "conventional algorithms\n",
            "the needed tasks\n",
            "a subset\n",
            "machine learning\n",
            "computational statistics\n",
            "which\n",
            "predictions\n",
            "computers\n",
            "mathematical optimization\n",
            "methods theory\n",
            "application domains\n",
            "the field\n",
            "data mining\n",
            "a related field\n",
            "study\n",
            "exploratory data analysis\n",
            "unsupervised learning\n",
            "its application\n",
            "business problems machine learning\n",
            "predictive analytics machine learning\n",
            "the world\n",
            "our site\n",
            "more info\n",
            "this\n",
            "we\n",
            "google\n",
            "major players\n"
          ]
        }
      ]
    },
    {
      "cell_type": "code",
      "source": [
        "for ent in spacy_doc_raw.ents: # Accessing .ents attribute for detected entities\n",
        "    if ent.label_ in ['ORG', 'GPE', 'PERSON', 'DATE', 'CARDINAL', 'LOC']: # Filter for common entity types\n",
        "         print(f\"Entity: {ent.text}, Type: {ent.label_}\")"
      ],
      "metadata": {
        "colab": {
          "base_uri": "https://localhost:8080/"
        },
        "id": "lrQ3vvQKsw4q",
        "outputId": "e71a524c-a1f1-4593-9603-d9c8183e0596"
      },
      "execution_count": null,
      "outputs": [
        {
          "output_type": "stream",
          "name": "stdout",
          "text": [
            "Entity: ML, Type: ORG\n",
            "Entity: 2023, Type: DATE\n",
            "Entity: 1,234, Type: CARDINAL\n",
            "Entity: Google, Type: ORG\n"
          ]
        }
      ]
    },
    {
      "cell_type": "code",
      "source": [
        "# sentiment analysis\n",
        "from nltk.sentiment.vader import SentimentIntensityAnalyzer\n"
      ],
      "metadata": {
        "id": "-do2m48EtrEX"
      },
      "execution_count": null,
      "outputs": []
    },
    {
      "cell_type": "code",
      "source": [
        "nltk.download('vader_lexicon')\n",
        "\n",
        "\n",
        "analyzer = SentimentIntensityAnalyzer()"
      ],
      "metadata": {
        "colab": {
          "base_uri": "https://localhost:8080/"
        },
        "id": "Z4RX928tuZWl",
        "outputId": "130dafc7-4af5-4b87-963d-3ec570b8007e"
      },
      "execution_count": null,
      "outputs": [
        {
          "output_type": "stream",
          "name": "stderr",
          "text": [
            "[nltk_data] Downloading package vader_lexicon to /root/nltk_data...\n"
          ]
        }
      ]
    },
    {
      "cell_type": "code",
      "source": [
        "sentence_for_sentiment = \"Machine learning is a field of study in artificial intelligence.\"\n",
        "vs = analyzer.polarity_scores(sentence_for_sentiment)\n",
        "print(\"\\n--- Sentiment Analysis with NLTK's VADER ---\")\n",
        "print(f\"Sentence: {sentence_for_sentiment}\")\n",
        "print(f\"VADER Polarity Scores: {vs}\")"
      ],
      "metadata": {
        "colab": {
          "base_uri": "https://localhost:8080/"
        },
        "id": "HSZ84ld-ubuH",
        "outputId": "cf75bf58-f6fb-4fab-ec47-5190c38b1bc5"
      },
      "execution_count": null,
      "outputs": [
        {
          "output_type": "stream",
          "name": "stdout",
          "text": [
            "\n",
            "--- Sentiment Analysis with NLTK's VADER ---\n",
            "Sentence: Machine learning is a field of study in artificial intelligence.\n",
            "VADER Polarity Scores: {'neg': 0.0, 'neu': 0.721, 'pos': 0.279, 'compound': 0.4767}\n"
          ]
        }
      ]
    },
    {
      "cell_type": "code",
      "source": [
        "sentence_for_sentiment_2 = \"Machine learning rocks! This is awesome!!!\"\n",
        "vs2 = analyzer.polarity_scores(sentence_for_sentiment_2)\n",
        "print(f\"Sentence: {sentence_for_sentiment_2}\")\n",
        "print(f\"VADER Polarity Scores: {vs2}\")\n"
      ],
      "metadata": {
        "colab": {
          "base_uri": "https://localhost:8080/"
        },
        "id": "QTHzevZcukFn",
        "outputId": "26e4ab4d-deb7-4736-9b7d-2dcf0f8c0f44"
      },
      "execution_count": null,
      "outputs": [
        {
          "output_type": "stream",
          "name": "stdout",
          "text": [
            "Sentence: Machine learning rocks! This is awesome!!!\n",
            "VADER Polarity Scores: {'neg': 0.0, 'neu': 0.487, 'pos': 0.513, 'compound': 0.7405}\n"
          ]
        }
      ]
    },
    {
      "cell_type": "code",
      "source": [
        "from wordcloud import WordCloud\n",
        "import matplotlib.pyplot as plt\n",
        "\n",
        "# Use the lemmatized tokens after stop word removal for the word cloud\n",
        "# Join the list of tokens back into a single string\n",
        "\n",
        "wordcloud_text = \" \".join(spacy_lemmatized_tokens) # Using spaCy lemmatized tokens\n",
        "\n",
        "# Generate a word cloud image\n",
        "wordcloud = WordCloud(width=800, height=400, background_color='white').generate(wordcloud_text)\n",
        "\n",
        "# Display the generated image:\n",
        "plt.figure(figsize=(10, 5))\n",
        "plt.imshow(wordcloud, interpolation='bilinear')\n",
        "plt.axis(\"off\")\n",
        "plt.title(\"Word Cloud of Preprocessed Text\")\n",
        "plt.show()"
      ],
      "metadata": {
        "colab": {
          "base_uri": "https://localhost:8080/",
          "height": 444
        },
        "id": "XFNl-bAFvHus",
        "outputId": "1627aa08-4b90-4d5e-cf85-482c71254097"
      },
      "execution_count": null,
      "outputs": [
        {
          "output_type": "display_data",
          "data": {
            "text/plain": [
              "<Figure size 1000x500 with 1 Axes>"
            ],
            "image/png": "[encoded data removed]"
          },
          "metadata": {}
        }
      ]
    },
    {
      "cell_type": "code",
      "source": [],
      "metadata": {
        "id": "XPsbfXh2v8bQ"
      },
      "execution_count": null,
      "outputs": []
    }
  ]
}